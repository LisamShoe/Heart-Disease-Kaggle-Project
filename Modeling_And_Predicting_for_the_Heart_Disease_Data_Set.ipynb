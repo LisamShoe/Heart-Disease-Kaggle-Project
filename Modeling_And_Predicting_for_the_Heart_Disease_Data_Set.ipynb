{
  "nbformat": 4,
  "nbformat_minor": 0,
  "metadata": {
    "colab": {
      "name": "Modeling And Predicting for the Heart Disease Data Set.ipynb",
      "provenance": [],
      "collapsed_sections": [],
      "toc_visible": true,
      "authorship_tag": "ABX9TyP11qyWf4QoiCEJCuCvuStv",
      "include_colab_link": true
    },
    "kernelspec": {
      "name": "python3",
      "display_name": "Python 3"
    }
  },
  "cells": [
    {
      "cell_type": "markdown",
      "metadata": {
        "id": "view-in-github",
        "colab_type": "text"
      },
      "source": [
        "<a href=\"https://colab.research.google.com/github/LisamShoe/Heart-Disease-Kaggle-Project/blob/master/Modeling_And_Predicting_for_the_Heart_Disease_Data_Set.ipynb\" target=\"_parent\"><img src=\"https://colab.research.google.com/assets/colab-badge.svg\" alt=\"Open In Colab\"/></a>"
      ]
    },
    {
      "cell_type": "markdown",
      "metadata": {
        "id": "HY1Ge36HzdGb",
        "colab_type": "text"
      },
      "source": [
        "# Modeling And Predicting for the Heart Disease Data Set\n",
        "Your modeling notebook should include each of the following:\n",
        "* (Feature engineering, if not captured in the EDA notebook. Sometimes it is \n",
        "easier or makes more sense to do feature engineering in the same notebook as your model.)\n",
        "* Splitting data into train/test sets\n",
        "* Build (at least one) model\n",
        "* Predict test set using model(s)\n",
        "* A quantiative metric of model(s) performance"
      ]
    },
    {
      "cell_type": "markdown",
      "metadata": {
        "id": "4cvFET002NWF",
        "colab_type": "text"
      },
      "source": [
        "Based on the Exploratory Data Analysis that I did here: https://github.com/LisamShoe/Heart-Disease-Kaggle-Project/blob/master/Heart_Disease_EDA.ipynb\n",
        "\n",
        "I am going to import the data into a few different dataframes to be able to run models to find the best predictors.\n",
        "\n",
        "\n",
        "*   df is the original data with rows dropped that are outliers or missing data. This has all of the categorical data stored as numbers.\n",
        "*   eng_df is the daata above transformed to have desctiptive strings in english to categorize the categorical data.\n",
        "* female_df is the original data, but only the females to see if we can get beter predictors using different models for men and women.\n",
        "* male_df is the original data, but only the females to see if we can get beter predictors using different models for men and women.\n",
        "\n",
        "I am also going to use normalized versions of df, female_df and male_df to test if the normalized versions work better\n"
      ]
    },
    {
      "cell_type": "markdown",
      "metadata": {
        "id": "bZ3lKfwWAqpJ",
        "colab_type": "text"
      },
      "source": [
        "# Load Data and Divide"
      ]
    },
    {
      "cell_type": "code",
      "metadata": {
        "id": "bKxwa7a8zpFj",
        "colab_type": "code",
        "colab": {
          "base_uri": "https://localhost:8080/",
          "height": 51
        },
        "outputId": "f5d2a868-30f9-401e-8344-81fb6c7fa645"
      },
      "source": [
        "import numpy as np \n",
        "import pandas as pd \n",
        "import matplotlib.pyplot as plt\n",
        "import seaborn as sns\n",
        "from sklearn.linear_model import LogisticRegression\n",
        "from sklearn.model_selection import train_test_split\n",
        "from sklearn import tree\n",
        "from sklearn.ensemble import RandomForestClassifier\n",
        "from sklearn.ensemble import AdaBoostClassifier\n",
        "from sklearn.neighbors import KNeighborsClassifier"
      ],
      "execution_count": 1,
      "outputs": [
        {
          "output_type": "stream",
          "text": [
            "/usr/local/lib/python3.6/dist-packages/statsmodels/tools/_testing.py:19: FutureWarning: pandas.util.testing is deprecated. Use the functions in the public API at pandas.testing instead.\n",
            "  import pandas.util.testing as tm\n"
          ],
          "name": "stderr"
        }
      ]
    },
    {
      "cell_type": "code",
      "metadata": {
        "id": "2V6mq9o_29Qf",
        "colab_type": "code",
        "colab": {
          "base_uri": "https://localhost:8080/",
          "height": 204
        },
        "outputId": "7d547f5d-8029-4e66-e475-ecfe8347e5ab"
      },
      "source": [
        "#Import Data Set\n",
        "df = pd.read_csv(\"https://raw.githubusercontent.com/LisamShoe/Heart-Disease-Kaggle-Project/master/heart.csv\")\n",
        "# Drop out extraneous rows based on EDA. Index values of rows to drop: 85, 92, 158, 163, 164, 251\n",
        "df.drop([85, 92, 158, 163, 164, 251], axis=0, inplace=True)\n",
        "df.head()"
      ],
      "execution_count": 2,
      "outputs": [
        {
          "output_type": "execute_result",
          "data": {
            "text/html": [
              "<div>\n",
              "<style scoped>\n",
              "    .dataframe tbody tr th:only-of-type {\n",
              "        vertical-align: middle;\n",
              "    }\n",
              "\n",
              "    .dataframe tbody tr th {\n",
              "        vertical-align: top;\n",
              "    }\n",
              "\n",
              "    .dataframe thead th {\n",
              "        text-align: right;\n",
              "    }\n",
              "</style>\n",
              "<table border=\"1\" class=\"dataframe\">\n",
              "  <thead>\n",
              "    <tr style=\"text-align: right;\">\n",
              "      <th></th>\n",
              "      <th>age</th>\n",
              "      <th>sex</th>\n",
              "      <th>cp</th>\n",
              "      <th>trestbps</th>\n",
              "      <th>chol</th>\n",
              "      <th>fbs</th>\n",
              "      <th>restecg</th>\n",
              "      <th>thalach</th>\n",
              "      <th>exang</th>\n",
              "      <th>oldpeak</th>\n",
              "      <th>slope</th>\n",
              "      <th>ca</th>\n",
              "      <th>thal</th>\n",
              "      <th>target</th>\n",
              "    </tr>\n",
              "  </thead>\n",
              "  <tbody>\n",
              "    <tr>\n",
              "      <th>0</th>\n",
              "      <td>63</td>\n",
              "      <td>1</td>\n",
              "      <td>3</td>\n",
              "      <td>145</td>\n",
              "      <td>233</td>\n",
              "      <td>1</td>\n",
              "      <td>0</td>\n",
              "      <td>150</td>\n",
              "      <td>0</td>\n",
              "      <td>2.3</td>\n",
              "      <td>0</td>\n",
              "      <td>0</td>\n",
              "      <td>1</td>\n",
              "      <td>1</td>\n",
              "    </tr>\n",
              "    <tr>\n",
              "      <th>1</th>\n",
              "      <td>37</td>\n",
              "      <td>1</td>\n",
              "      <td>2</td>\n",
              "      <td>130</td>\n",
              "      <td>250</td>\n",
              "      <td>0</td>\n",
              "      <td>1</td>\n",
              "      <td>187</td>\n",
              "      <td>0</td>\n",
              "      <td>3.5</td>\n",
              "      <td>0</td>\n",
              "      <td>0</td>\n",
              "      <td>2</td>\n",
              "      <td>1</td>\n",
              "    </tr>\n",
              "    <tr>\n",
              "      <th>2</th>\n",
              "      <td>41</td>\n",
              "      <td>0</td>\n",
              "      <td>1</td>\n",
              "      <td>130</td>\n",
              "      <td>204</td>\n",
              "      <td>0</td>\n",
              "      <td>0</td>\n",
              "      <td>172</td>\n",
              "      <td>0</td>\n",
              "      <td>1.4</td>\n",
              "      <td>2</td>\n",
              "      <td>0</td>\n",
              "      <td>2</td>\n",
              "      <td>1</td>\n",
              "    </tr>\n",
              "    <tr>\n",
              "      <th>3</th>\n",
              "      <td>56</td>\n",
              "      <td>1</td>\n",
              "      <td>1</td>\n",
              "      <td>120</td>\n",
              "      <td>236</td>\n",
              "      <td>0</td>\n",
              "      <td>1</td>\n",
              "      <td>178</td>\n",
              "      <td>0</td>\n",
              "      <td>0.8</td>\n",
              "      <td>2</td>\n",
              "      <td>0</td>\n",
              "      <td>2</td>\n",
              "      <td>1</td>\n",
              "    </tr>\n",
              "    <tr>\n",
              "      <th>4</th>\n",
              "      <td>57</td>\n",
              "      <td>0</td>\n",
              "      <td>0</td>\n",
              "      <td>120</td>\n",
              "      <td>354</td>\n",
              "      <td>0</td>\n",
              "      <td>1</td>\n",
              "      <td>163</td>\n",
              "      <td>1</td>\n",
              "      <td>0.6</td>\n",
              "      <td>2</td>\n",
              "      <td>0</td>\n",
              "      <td>2</td>\n",
              "      <td>1</td>\n",
              "    </tr>\n",
              "  </tbody>\n",
              "</table>\n",
              "</div>"
            ],
            "text/plain": [
              "   age  sex  cp  trestbps  chol  fbs  ...  exang  oldpeak  slope  ca  thal  target\n",
              "0   63    1   3       145   233    1  ...      0      2.3      0   0     1       1\n",
              "1   37    1   2       130   250    0  ...      0      3.5      0   0     2       1\n",
              "2   41    0   1       130   204    0  ...      0      1.4      2   0     2       1\n",
              "3   56    1   1       120   236    0  ...      0      0.8      2   0     2       1\n",
              "4   57    0   0       120   354    0  ...      1      0.6      2   0     2       1\n",
              "\n",
              "[5 rows x 14 columns]"
            ]
          },
          "metadata": {
            "tags": []
          },
          "execution_count": 2
        }
      ]
    },
    {
      "cell_type": "code",
      "metadata": {
        "id": "AiwMU6Ed29v2",
        "colab_type": "code",
        "colab": {
          "base_uri": "https://localhost:8080/",
          "height": 204
        },
        "outputId": "1d231b7d-8981-4bad-9b6f-19538ddaa6dd"
      },
      "source": [
        "#English Categorized Data\n",
        "eng_df = df\n",
        "#assign male and female\n",
        "sex_dict = {0: \"female\", 1:\"male\"}\n",
        "eng_df[\"sex\"] = eng_df[\"sex\"].map(sex_dict)\n",
        "#chest pain categories\n",
        "cp_dict = {0: \"asymptomatic\", 1:\"atypical angina\", 2:\"non-anginal pain\", 3:\"typical angina\"}\n",
        "eng_df[\"cp\"] = eng_df[\"cp\"].map(cp_dict)\n",
        "#rest ecg categories\n",
        "restecg_dict = {0: \"left ventricular hypertrophy\", 1:\"normal\", 2:\"ST-T wave abnormality\"}\n",
        "eng_df[\"restecg\"] = eng_df[\"restecg\"].map(restecg_dict)\n",
        "#target\n",
        "target_dict = {0: \"disease\", 1:\"no disease\"}\n",
        "eng_df[\"target\"] = eng_df[\"target\"].map(target_dict)\n",
        "\n",
        "#I'm leaving Fasting Blood Sugar but 0 is low and 1 is high meaning 1 is prediabetic or diabetic\n",
        "eng_df = eng_df.rename(columns={\"cp\": \"chest pain\", \"trestbps\": \"resting blood pressure\", \"chol\":\"cholesterol\", \"fbs\":\"fasting blood sugar\", \"thalach\":\"max heart rate\", \"exang\":\"exercise angina\", \"ca\":\"major vessels\"})\n",
        "\n",
        "eng_df.head()"
      ],
      "execution_count": 3,
      "outputs": [
        {
          "output_type": "execute_result",
          "data": {
            "text/html": [
              "<div>\n",
              "<style scoped>\n",
              "    .dataframe tbody tr th:only-of-type {\n",
              "        vertical-align: middle;\n",
              "    }\n",
              "\n",
              "    .dataframe tbody tr th {\n",
              "        vertical-align: top;\n",
              "    }\n",
              "\n",
              "    .dataframe thead th {\n",
              "        text-align: right;\n",
              "    }\n",
              "</style>\n",
              "<table border=\"1\" class=\"dataframe\">\n",
              "  <thead>\n",
              "    <tr style=\"text-align: right;\">\n",
              "      <th></th>\n",
              "      <th>age</th>\n",
              "      <th>sex</th>\n",
              "      <th>chest pain</th>\n",
              "      <th>resting blood pressure</th>\n",
              "      <th>cholesterol</th>\n",
              "      <th>fasting blood sugar</th>\n",
              "      <th>restecg</th>\n",
              "      <th>max heart rate</th>\n",
              "      <th>exercise angina</th>\n",
              "      <th>oldpeak</th>\n",
              "      <th>slope</th>\n",
              "      <th>major vessels</th>\n",
              "      <th>thal</th>\n",
              "      <th>target</th>\n",
              "    </tr>\n",
              "  </thead>\n",
              "  <tbody>\n",
              "    <tr>\n",
              "      <th>0</th>\n",
              "      <td>63</td>\n",
              "      <td>male</td>\n",
              "      <td>typical angina</td>\n",
              "      <td>145</td>\n",
              "      <td>233</td>\n",
              "      <td>1</td>\n",
              "      <td>left ventricular hypertrophy</td>\n",
              "      <td>150</td>\n",
              "      <td>0</td>\n",
              "      <td>2.3</td>\n",
              "      <td>0</td>\n",
              "      <td>0</td>\n",
              "      <td>1</td>\n",
              "      <td>no disease</td>\n",
              "    </tr>\n",
              "    <tr>\n",
              "      <th>1</th>\n",
              "      <td>37</td>\n",
              "      <td>male</td>\n",
              "      <td>non-anginal pain</td>\n",
              "      <td>130</td>\n",
              "      <td>250</td>\n",
              "      <td>0</td>\n",
              "      <td>normal</td>\n",
              "      <td>187</td>\n",
              "      <td>0</td>\n",
              "      <td>3.5</td>\n",
              "      <td>0</td>\n",
              "      <td>0</td>\n",
              "      <td>2</td>\n",
              "      <td>no disease</td>\n",
              "    </tr>\n",
              "    <tr>\n",
              "      <th>2</th>\n",
              "      <td>41</td>\n",
              "      <td>female</td>\n",
              "      <td>atypical angina</td>\n",
              "      <td>130</td>\n",
              "      <td>204</td>\n",
              "      <td>0</td>\n",
              "      <td>left ventricular hypertrophy</td>\n",
              "      <td>172</td>\n",
              "      <td>0</td>\n",
              "      <td>1.4</td>\n",
              "      <td>2</td>\n",
              "      <td>0</td>\n",
              "      <td>2</td>\n",
              "      <td>no disease</td>\n",
              "    </tr>\n",
              "    <tr>\n",
              "      <th>3</th>\n",
              "      <td>56</td>\n",
              "      <td>male</td>\n",
              "      <td>atypical angina</td>\n",
              "      <td>120</td>\n",
              "      <td>236</td>\n",
              "      <td>0</td>\n",
              "      <td>normal</td>\n",
              "      <td>178</td>\n",
              "      <td>0</td>\n",
              "      <td>0.8</td>\n",
              "      <td>2</td>\n",
              "      <td>0</td>\n",
              "      <td>2</td>\n",
              "      <td>no disease</td>\n",
              "    </tr>\n",
              "    <tr>\n",
              "      <th>4</th>\n",
              "      <td>57</td>\n",
              "      <td>female</td>\n",
              "      <td>asymptomatic</td>\n",
              "      <td>120</td>\n",
              "      <td>354</td>\n",
              "      <td>0</td>\n",
              "      <td>normal</td>\n",
              "      <td>163</td>\n",
              "      <td>1</td>\n",
              "      <td>0.6</td>\n",
              "      <td>2</td>\n",
              "      <td>0</td>\n",
              "      <td>2</td>\n",
              "      <td>no disease</td>\n",
              "    </tr>\n",
              "  </tbody>\n",
              "</table>\n",
              "</div>"
            ],
            "text/plain": [
              "   age     sex        chest pain  ...  major vessels  thal      target\n",
              "0   63    male    typical angina  ...              0     1  no disease\n",
              "1   37    male  non-anginal pain  ...              0     2  no disease\n",
              "2   41  female   atypical angina  ...              0     2  no disease\n",
              "3   56    male   atypical angina  ...              0     2  no disease\n",
              "4   57  female      asymptomatic  ...              0     2  no disease\n",
              "\n",
              "[5 rows x 14 columns]"
            ]
          },
          "metadata": {
            "tags": []
          },
          "execution_count": 3
        }
      ]
    },
    {
      "cell_type": "code",
      "metadata": {
        "id": "wwpvlkp9H3J1",
        "colab_type": "code",
        "colab": {
          "base_uri": "https://localhost:8080/",
          "height": 575
        },
        "outputId": "5a8cbcb0-0371-4392-fb9f-028867c3928b"
      },
      "source": [
        "#translating the english into one-hot encoding to be able to feed into models\n",
        "onehot_df = pd.get_dummies(eng_df, columns=['sex','chest pain', 'restecg'])\n",
        "onehot_df"
      ],
      "execution_count": 4,
      "outputs": [
        {
          "output_type": "execute_result",
          "data": {
            "text/html": [
              "<div>\n",
              "<style scoped>\n",
              "    .dataframe tbody tr th:only-of-type {\n",
              "        vertical-align: middle;\n",
              "    }\n",
              "\n",
              "    .dataframe tbody tr th {\n",
              "        vertical-align: top;\n",
              "    }\n",
              "\n",
              "    .dataframe thead th {\n",
              "        text-align: right;\n",
              "    }\n",
              "</style>\n",
              "<table border=\"1\" class=\"dataframe\">\n",
              "  <thead>\n",
              "    <tr style=\"text-align: right;\">\n",
              "      <th></th>\n",
              "      <th>age</th>\n",
              "      <th>resting blood pressure</th>\n",
              "      <th>cholesterol</th>\n",
              "      <th>fasting blood sugar</th>\n",
              "      <th>max heart rate</th>\n",
              "      <th>exercise angina</th>\n",
              "      <th>oldpeak</th>\n",
              "      <th>slope</th>\n",
              "      <th>major vessels</th>\n",
              "      <th>thal</th>\n",
              "      <th>target</th>\n",
              "      <th>sex_female</th>\n",
              "      <th>sex_male</th>\n",
              "      <th>chest pain_asymptomatic</th>\n",
              "      <th>chest pain_atypical angina</th>\n",
              "      <th>chest pain_non-anginal pain</th>\n",
              "      <th>chest pain_typical angina</th>\n",
              "      <th>restecg_ST-T wave abnormality</th>\n",
              "      <th>restecg_left ventricular hypertrophy</th>\n",
              "      <th>restecg_normal</th>\n",
              "    </tr>\n",
              "  </thead>\n",
              "  <tbody>\n",
              "    <tr>\n",
              "      <th>0</th>\n",
              "      <td>63</td>\n",
              "      <td>145</td>\n",
              "      <td>233</td>\n",
              "      <td>1</td>\n",
              "      <td>150</td>\n",
              "      <td>0</td>\n",
              "      <td>2.3</td>\n",
              "      <td>0</td>\n",
              "      <td>0</td>\n",
              "      <td>1</td>\n",
              "      <td>no disease</td>\n",
              "      <td>0</td>\n",
              "      <td>1</td>\n",
              "      <td>0</td>\n",
              "      <td>0</td>\n",
              "      <td>0</td>\n",
              "      <td>1</td>\n",
              "      <td>0</td>\n",
              "      <td>1</td>\n",
              "      <td>0</td>\n",
              "    </tr>\n",
              "    <tr>\n",
              "      <th>1</th>\n",
              "      <td>37</td>\n",
              "      <td>130</td>\n",
              "      <td>250</td>\n",
              "      <td>0</td>\n",
              "      <td>187</td>\n",
              "      <td>0</td>\n",
              "      <td>3.5</td>\n",
              "      <td>0</td>\n",
              "      <td>0</td>\n",
              "      <td>2</td>\n",
              "      <td>no disease</td>\n",
              "      <td>0</td>\n",
              "      <td>1</td>\n",
              "      <td>0</td>\n",
              "      <td>0</td>\n",
              "      <td>1</td>\n",
              "      <td>0</td>\n",
              "      <td>0</td>\n",
              "      <td>0</td>\n",
              "      <td>1</td>\n",
              "    </tr>\n",
              "    <tr>\n",
              "      <th>2</th>\n",
              "      <td>41</td>\n",
              "      <td>130</td>\n",
              "      <td>204</td>\n",
              "      <td>0</td>\n",
              "      <td>172</td>\n",
              "      <td>0</td>\n",
              "      <td>1.4</td>\n",
              "      <td>2</td>\n",
              "      <td>0</td>\n",
              "      <td>2</td>\n",
              "      <td>no disease</td>\n",
              "      <td>1</td>\n",
              "      <td>0</td>\n",
              "      <td>0</td>\n",
              "      <td>1</td>\n",
              "      <td>0</td>\n",
              "      <td>0</td>\n",
              "      <td>0</td>\n",
              "      <td>1</td>\n",
              "      <td>0</td>\n",
              "    </tr>\n",
              "    <tr>\n",
              "      <th>3</th>\n",
              "      <td>56</td>\n",
              "      <td>120</td>\n",
              "      <td>236</td>\n",
              "      <td>0</td>\n",
              "      <td>178</td>\n",
              "      <td>0</td>\n",
              "      <td>0.8</td>\n",
              "      <td>2</td>\n",
              "      <td>0</td>\n",
              "      <td>2</td>\n",
              "      <td>no disease</td>\n",
              "      <td>0</td>\n",
              "      <td>1</td>\n",
              "      <td>0</td>\n",
              "      <td>1</td>\n",
              "      <td>0</td>\n",
              "      <td>0</td>\n",
              "      <td>0</td>\n",
              "      <td>0</td>\n",
              "      <td>1</td>\n",
              "    </tr>\n",
              "    <tr>\n",
              "      <th>4</th>\n",
              "      <td>57</td>\n",
              "      <td>120</td>\n",
              "      <td>354</td>\n",
              "      <td>0</td>\n",
              "      <td>163</td>\n",
              "      <td>1</td>\n",
              "      <td>0.6</td>\n",
              "      <td>2</td>\n",
              "      <td>0</td>\n",
              "      <td>2</td>\n",
              "      <td>no disease</td>\n",
              "      <td>1</td>\n",
              "      <td>0</td>\n",
              "      <td>1</td>\n",
              "      <td>0</td>\n",
              "      <td>0</td>\n",
              "      <td>0</td>\n",
              "      <td>0</td>\n",
              "      <td>0</td>\n",
              "      <td>1</td>\n",
              "    </tr>\n",
              "    <tr>\n",
              "      <th>...</th>\n",
              "      <td>...</td>\n",
              "      <td>...</td>\n",
              "      <td>...</td>\n",
              "      <td>...</td>\n",
              "      <td>...</td>\n",
              "      <td>...</td>\n",
              "      <td>...</td>\n",
              "      <td>...</td>\n",
              "      <td>...</td>\n",
              "      <td>...</td>\n",
              "      <td>...</td>\n",
              "      <td>...</td>\n",
              "      <td>...</td>\n",
              "      <td>...</td>\n",
              "      <td>...</td>\n",
              "      <td>...</td>\n",
              "      <td>...</td>\n",
              "      <td>...</td>\n",
              "      <td>...</td>\n",
              "      <td>...</td>\n",
              "    </tr>\n",
              "    <tr>\n",
              "      <th>298</th>\n",
              "      <td>57</td>\n",
              "      <td>140</td>\n",
              "      <td>241</td>\n",
              "      <td>0</td>\n",
              "      <td>123</td>\n",
              "      <td>1</td>\n",
              "      <td>0.2</td>\n",
              "      <td>1</td>\n",
              "      <td>0</td>\n",
              "      <td>3</td>\n",
              "      <td>disease</td>\n",
              "      <td>1</td>\n",
              "      <td>0</td>\n",
              "      <td>1</td>\n",
              "      <td>0</td>\n",
              "      <td>0</td>\n",
              "      <td>0</td>\n",
              "      <td>0</td>\n",
              "      <td>0</td>\n",
              "      <td>1</td>\n",
              "    </tr>\n",
              "    <tr>\n",
              "      <th>299</th>\n",
              "      <td>45</td>\n",
              "      <td>110</td>\n",
              "      <td>264</td>\n",
              "      <td>0</td>\n",
              "      <td>132</td>\n",
              "      <td>0</td>\n",
              "      <td>1.2</td>\n",
              "      <td>1</td>\n",
              "      <td>0</td>\n",
              "      <td>3</td>\n",
              "      <td>disease</td>\n",
              "      <td>0</td>\n",
              "      <td>1</td>\n",
              "      <td>0</td>\n",
              "      <td>0</td>\n",
              "      <td>0</td>\n",
              "      <td>1</td>\n",
              "      <td>0</td>\n",
              "      <td>0</td>\n",
              "      <td>1</td>\n",
              "    </tr>\n",
              "    <tr>\n",
              "      <th>300</th>\n",
              "      <td>68</td>\n",
              "      <td>144</td>\n",
              "      <td>193</td>\n",
              "      <td>1</td>\n",
              "      <td>141</td>\n",
              "      <td>0</td>\n",
              "      <td>3.4</td>\n",
              "      <td>1</td>\n",
              "      <td>2</td>\n",
              "      <td>3</td>\n",
              "      <td>disease</td>\n",
              "      <td>0</td>\n",
              "      <td>1</td>\n",
              "      <td>1</td>\n",
              "      <td>0</td>\n",
              "      <td>0</td>\n",
              "      <td>0</td>\n",
              "      <td>0</td>\n",
              "      <td>0</td>\n",
              "      <td>1</td>\n",
              "    </tr>\n",
              "    <tr>\n",
              "      <th>301</th>\n",
              "      <td>57</td>\n",
              "      <td>130</td>\n",
              "      <td>131</td>\n",
              "      <td>0</td>\n",
              "      <td>115</td>\n",
              "      <td>1</td>\n",
              "      <td>1.2</td>\n",
              "      <td>1</td>\n",
              "      <td>1</td>\n",
              "      <td>3</td>\n",
              "      <td>disease</td>\n",
              "      <td>0</td>\n",
              "      <td>1</td>\n",
              "      <td>1</td>\n",
              "      <td>0</td>\n",
              "      <td>0</td>\n",
              "      <td>0</td>\n",
              "      <td>0</td>\n",
              "      <td>0</td>\n",
              "      <td>1</td>\n",
              "    </tr>\n",
              "    <tr>\n",
              "      <th>302</th>\n",
              "      <td>57</td>\n",
              "      <td>130</td>\n",
              "      <td>236</td>\n",
              "      <td>0</td>\n",
              "      <td>174</td>\n",
              "      <td>0</td>\n",
              "      <td>0.0</td>\n",
              "      <td>1</td>\n",
              "      <td>1</td>\n",
              "      <td>2</td>\n",
              "      <td>disease</td>\n",
              "      <td>1</td>\n",
              "      <td>0</td>\n",
              "      <td>0</td>\n",
              "      <td>1</td>\n",
              "      <td>0</td>\n",
              "      <td>0</td>\n",
              "      <td>0</td>\n",
              "      <td>1</td>\n",
              "      <td>0</td>\n",
              "    </tr>\n",
              "  </tbody>\n",
              "</table>\n",
              "<p>297 rows × 20 columns</p>\n",
              "</div>"
            ],
            "text/plain": [
              "     age  ...  restecg_normal\n",
              "0     63  ...               0\n",
              "1     37  ...               1\n",
              "2     41  ...               0\n",
              "3     56  ...               1\n",
              "4     57  ...               1\n",
              "..   ...  ...             ...\n",
              "298   57  ...               1\n",
              "299   45  ...               1\n",
              "300   68  ...               1\n",
              "301   57  ...               1\n",
              "302   57  ...               0\n",
              "\n",
              "[297 rows x 20 columns]"
            ]
          },
          "metadata": {
            "tags": []
          },
          "execution_count": 4
        }
      ]
    },
    {
      "cell_type": "code",
      "metadata": {
        "id": "uyW7WATL4FPq",
        "colab_type": "code",
        "colab": {
          "base_uri": "https://localhost:8080/",
          "height": 419
        },
        "outputId": "23c54550-6025-4873-d313-61535a25279e"
      },
      "source": [
        "#Normalizing the data before creating splits between male and female so that I can do the splits at the same time\n",
        "#For some reason the mapping done in the previous cell also overwrites the values in df even though I sepcified eng_df in all of the renaming. \n",
        "#To correct this, I will run the code from the Import and clean cell again.\n",
        "df = pd.read_csv(\"https://raw.githubusercontent.com/LisamShoe/Heart-Disease-Kaggle-Project/master/heart.csv\")\n",
        "df.drop([85, 92, 158, 163, 164, 251], axis=0, inplace=True)\n",
        "normalized_df=(df-df.min())/(df.max()-df.min())\n",
        "normalized_df"
      ],
      "execution_count": 5,
      "outputs": [
        {
          "output_type": "execute_result",
          "data": {
            "text/html": [
              "<div>\n",
              "<style scoped>\n",
              "    .dataframe tbody tr th:only-of-type {\n",
              "        vertical-align: middle;\n",
              "    }\n",
              "\n",
              "    .dataframe tbody tr th {\n",
              "        vertical-align: top;\n",
              "    }\n",
              "\n",
              "    .dataframe thead th {\n",
              "        text-align: right;\n",
              "    }\n",
              "</style>\n",
              "<table border=\"1\" class=\"dataframe\">\n",
              "  <thead>\n",
              "    <tr style=\"text-align: right;\">\n",
              "      <th></th>\n",
              "      <th>age</th>\n",
              "      <th>sex</th>\n",
              "      <th>cp</th>\n",
              "      <th>trestbps</th>\n",
              "      <th>chol</th>\n",
              "      <th>fbs</th>\n",
              "      <th>restecg</th>\n",
              "      <th>thalach</th>\n",
              "      <th>exang</th>\n",
              "      <th>oldpeak</th>\n",
              "      <th>slope</th>\n",
              "      <th>ca</th>\n",
              "      <th>thal</th>\n",
              "      <th>target</th>\n",
              "    </tr>\n",
              "  </thead>\n",
              "  <tbody>\n",
              "    <tr>\n",
              "      <th>0</th>\n",
              "      <td>0.708333</td>\n",
              "      <td>1.0</td>\n",
              "      <td>1.000000</td>\n",
              "      <td>0.481132</td>\n",
              "      <td>0.367698</td>\n",
              "      <td>1.0</td>\n",
              "      <td>0.0</td>\n",
              "      <td>0.603053</td>\n",
              "      <td>0.0</td>\n",
              "      <td>0.370968</td>\n",
              "      <td>0.0</td>\n",
              "      <td>0.000000</td>\n",
              "      <td>0.333333</td>\n",
              "      <td>1.0</td>\n",
              "    </tr>\n",
              "    <tr>\n",
              "      <th>1</th>\n",
              "      <td>0.166667</td>\n",
              "      <td>1.0</td>\n",
              "      <td>0.666667</td>\n",
              "      <td>0.339623</td>\n",
              "      <td>0.426117</td>\n",
              "      <td>0.0</td>\n",
              "      <td>0.5</td>\n",
              "      <td>0.885496</td>\n",
              "      <td>0.0</td>\n",
              "      <td>0.564516</td>\n",
              "      <td>0.0</td>\n",
              "      <td>0.000000</td>\n",
              "      <td>0.666667</td>\n",
              "      <td>1.0</td>\n",
              "    </tr>\n",
              "    <tr>\n",
              "      <th>2</th>\n",
              "      <td>0.250000</td>\n",
              "      <td>0.0</td>\n",
              "      <td>0.333333</td>\n",
              "      <td>0.339623</td>\n",
              "      <td>0.268041</td>\n",
              "      <td>0.0</td>\n",
              "      <td>0.0</td>\n",
              "      <td>0.770992</td>\n",
              "      <td>0.0</td>\n",
              "      <td>0.225806</td>\n",
              "      <td>1.0</td>\n",
              "      <td>0.000000</td>\n",
              "      <td>0.666667</td>\n",
              "      <td>1.0</td>\n",
              "    </tr>\n",
              "    <tr>\n",
              "      <th>3</th>\n",
              "      <td>0.562500</td>\n",
              "      <td>1.0</td>\n",
              "      <td>0.333333</td>\n",
              "      <td>0.245283</td>\n",
              "      <td>0.378007</td>\n",
              "      <td>0.0</td>\n",
              "      <td>0.5</td>\n",
              "      <td>0.816794</td>\n",
              "      <td>0.0</td>\n",
              "      <td>0.129032</td>\n",
              "      <td>1.0</td>\n",
              "      <td>0.000000</td>\n",
              "      <td>0.666667</td>\n",
              "      <td>1.0</td>\n",
              "    </tr>\n",
              "    <tr>\n",
              "      <th>4</th>\n",
              "      <td>0.583333</td>\n",
              "      <td>0.0</td>\n",
              "      <td>0.000000</td>\n",
              "      <td>0.245283</td>\n",
              "      <td>0.783505</td>\n",
              "      <td>0.0</td>\n",
              "      <td>0.5</td>\n",
              "      <td>0.702290</td>\n",
              "      <td>1.0</td>\n",
              "      <td>0.096774</td>\n",
              "      <td>1.0</td>\n",
              "      <td>0.000000</td>\n",
              "      <td>0.666667</td>\n",
              "      <td>1.0</td>\n",
              "    </tr>\n",
              "    <tr>\n",
              "      <th>...</th>\n",
              "      <td>...</td>\n",
              "      <td>...</td>\n",
              "      <td>...</td>\n",
              "      <td>...</td>\n",
              "      <td>...</td>\n",
              "      <td>...</td>\n",
              "      <td>...</td>\n",
              "      <td>...</td>\n",
              "      <td>...</td>\n",
              "      <td>...</td>\n",
              "      <td>...</td>\n",
              "      <td>...</td>\n",
              "      <td>...</td>\n",
              "      <td>...</td>\n",
              "    </tr>\n",
              "    <tr>\n",
              "      <th>298</th>\n",
              "      <td>0.583333</td>\n",
              "      <td>0.0</td>\n",
              "      <td>0.000000</td>\n",
              "      <td>0.433962</td>\n",
              "      <td>0.395189</td>\n",
              "      <td>0.0</td>\n",
              "      <td>0.5</td>\n",
              "      <td>0.396947</td>\n",
              "      <td>1.0</td>\n",
              "      <td>0.032258</td>\n",
              "      <td>0.5</td>\n",
              "      <td>0.000000</td>\n",
              "      <td>1.000000</td>\n",
              "      <td>0.0</td>\n",
              "    </tr>\n",
              "    <tr>\n",
              "      <th>299</th>\n",
              "      <td>0.333333</td>\n",
              "      <td>1.0</td>\n",
              "      <td>1.000000</td>\n",
              "      <td>0.150943</td>\n",
              "      <td>0.474227</td>\n",
              "      <td>0.0</td>\n",
              "      <td>0.5</td>\n",
              "      <td>0.465649</td>\n",
              "      <td>0.0</td>\n",
              "      <td>0.193548</td>\n",
              "      <td>0.5</td>\n",
              "      <td>0.000000</td>\n",
              "      <td>1.000000</td>\n",
              "      <td>0.0</td>\n",
              "    </tr>\n",
              "    <tr>\n",
              "      <th>300</th>\n",
              "      <td>0.812500</td>\n",
              "      <td>1.0</td>\n",
              "      <td>0.000000</td>\n",
              "      <td>0.471698</td>\n",
              "      <td>0.230241</td>\n",
              "      <td>1.0</td>\n",
              "      <td>0.5</td>\n",
              "      <td>0.534351</td>\n",
              "      <td>0.0</td>\n",
              "      <td>0.548387</td>\n",
              "      <td>0.5</td>\n",
              "      <td>0.666667</td>\n",
              "      <td>1.000000</td>\n",
              "      <td>0.0</td>\n",
              "    </tr>\n",
              "    <tr>\n",
              "      <th>301</th>\n",
              "      <td>0.583333</td>\n",
              "      <td>1.0</td>\n",
              "      <td>0.000000</td>\n",
              "      <td>0.339623</td>\n",
              "      <td>0.017182</td>\n",
              "      <td>0.0</td>\n",
              "      <td>0.5</td>\n",
              "      <td>0.335878</td>\n",
              "      <td>1.0</td>\n",
              "      <td>0.193548</td>\n",
              "      <td>0.5</td>\n",
              "      <td>0.333333</td>\n",
              "      <td>1.000000</td>\n",
              "      <td>0.0</td>\n",
              "    </tr>\n",
              "    <tr>\n",
              "      <th>302</th>\n",
              "      <td>0.583333</td>\n",
              "      <td>0.0</td>\n",
              "      <td>0.333333</td>\n",
              "      <td>0.339623</td>\n",
              "      <td>0.378007</td>\n",
              "      <td>0.0</td>\n",
              "      <td>0.0</td>\n",
              "      <td>0.786260</td>\n",
              "      <td>0.0</td>\n",
              "      <td>0.000000</td>\n",
              "      <td>0.5</td>\n",
              "      <td>0.333333</td>\n",
              "      <td>0.666667</td>\n",
              "      <td>0.0</td>\n",
              "    </tr>\n",
              "  </tbody>\n",
              "</table>\n",
              "<p>297 rows × 14 columns</p>\n",
              "</div>"
            ],
            "text/plain": [
              "          age  sex        cp  trestbps  ...  slope        ca      thal  target\n",
              "0    0.708333  1.0  1.000000  0.481132  ...    0.0  0.000000  0.333333     1.0\n",
              "1    0.166667  1.0  0.666667  0.339623  ...    0.0  0.000000  0.666667     1.0\n",
              "2    0.250000  0.0  0.333333  0.339623  ...    1.0  0.000000  0.666667     1.0\n",
              "3    0.562500  1.0  0.333333  0.245283  ...    1.0  0.000000  0.666667     1.0\n",
              "4    0.583333  0.0  0.000000  0.245283  ...    1.0  0.000000  0.666667     1.0\n",
              "..        ...  ...       ...       ...  ...    ...       ...       ...     ...\n",
              "298  0.583333  0.0  0.000000  0.433962  ...    0.5  0.000000  1.000000     0.0\n",
              "299  0.333333  1.0  1.000000  0.150943  ...    0.5  0.000000  1.000000     0.0\n",
              "300  0.812500  1.0  0.000000  0.471698  ...    0.5  0.666667  1.000000     0.0\n",
              "301  0.583333  1.0  0.000000  0.339623  ...    0.5  0.333333  1.000000     0.0\n",
              "302  0.583333  0.0  0.333333  0.339623  ...    0.5  0.333333  0.666667     0.0\n",
              "\n",
              "[297 rows x 14 columns]"
            ]
          },
          "metadata": {
            "tags": []
          },
          "execution_count": 5
        }
      ]
    },
    {
      "cell_type": "code",
      "metadata": {
        "id": "HLZZXtXk6Ayk",
        "colab_type": "code",
        "colab": {
          "base_uri": "https://localhost:8080/",
          "height": 419
        },
        "outputId": "240e772f-04fb-44c5-82a6-deca5af91c75"
      },
      "source": [
        "female_df = df[df['sex'] == 0]\n",
        "male_df = df[df['sex'] == 1]\n",
        "normalized_f_df = normalized_df[normalized_df['sex'] == 0]\n",
        "normalized_m_df = normalized_df[normalized_df['sex'] == 1]\n",
        "normalized_f_df"
      ],
      "execution_count": 6,
      "outputs": [
        {
          "output_type": "execute_result",
          "data": {
            "text/html": [
              "<div>\n",
              "<style scoped>\n",
              "    .dataframe tbody tr th:only-of-type {\n",
              "        vertical-align: middle;\n",
              "    }\n",
              "\n",
              "    .dataframe tbody tr th {\n",
              "        vertical-align: top;\n",
              "    }\n",
              "\n",
              "    .dataframe thead th {\n",
              "        text-align: right;\n",
              "    }\n",
              "</style>\n",
              "<table border=\"1\" class=\"dataframe\">\n",
              "  <thead>\n",
              "    <tr style=\"text-align: right;\">\n",
              "      <th></th>\n",
              "      <th>age</th>\n",
              "      <th>sex</th>\n",
              "      <th>cp</th>\n",
              "      <th>trestbps</th>\n",
              "      <th>chol</th>\n",
              "      <th>fbs</th>\n",
              "      <th>restecg</th>\n",
              "      <th>thalach</th>\n",
              "      <th>exang</th>\n",
              "      <th>oldpeak</th>\n",
              "      <th>slope</th>\n",
              "      <th>ca</th>\n",
              "      <th>thal</th>\n",
              "      <th>target</th>\n",
              "    </tr>\n",
              "  </thead>\n",
              "  <tbody>\n",
              "    <tr>\n",
              "      <th>2</th>\n",
              "      <td>0.250000</td>\n",
              "      <td>0.0</td>\n",
              "      <td>0.333333</td>\n",
              "      <td>0.339623</td>\n",
              "      <td>0.268041</td>\n",
              "      <td>0.0</td>\n",
              "      <td>0.0</td>\n",
              "      <td>0.770992</td>\n",
              "      <td>0.0</td>\n",
              "      <td>0.225806</td>\n",
              "      <td>1.0</td>\n",
              "      <td>0.000000</td>\n",
              "      <td>0.666667</td>\n",
              "      <td>1.0</td>\n",
              "    </tr>\n",
              "    <tr>\n",
              "      <th>4</th>\n",
              "      <td>0.583333</td>\n",
              "      <td>0.0</td>\n",
              "      <td>0.000000</td>\n",
              "      <td>0.245283</td>\n",
              "      <td>0.783505</td>\n",
              "      <td>0.0</td>\n",
              "      <td>0.5</td>\n",
              "      <td>0.702290</td>\n",
              "      <td>1.0</td>\n",
              "      <td>0.096774</td>\n",
              "      <td>1.0</td>\n",
              "      <td>0.000000</td>\n",
              "      <td>0.666667</td>\n",
              "      <td>1.0</td>\n",
              "    </tr>\n",
              "    <tr>\n",
              "      <th>6</th>\n",
              "      <td>0.562500</td>\n",
              "      <td>0.0</td>\n",
              "      <td>0.333333</td>\n",
              "      <td>0.433962</td>\n",
              "      <td>0.577320</td>\n",
              "      <td>0.0</td>\n",
              "      <td>0.0</td>\n",
              "      <td>0.625954</td>\n",
              "      <td>0.0</td>\n",
              "      <td>0.209677</td>\n",
              "      <td>0.5</td>\n",
              "      <td>0.000000</td>\n",
              "      <td>0.666667</td>\n",
              "      <td>1.0</td>\n",
              "    </tr>\n",
              "    <tr>\n",
              "      <th>11</th>\n",
              "      <td>0.395833</td>\n",
              "      <td>0.0</td>\n",
              "      <td>0.666667</td>\n",
              "      <td>0.339623</td>\n",
              "      <td>0.512027</td>\n",
              "      <td>0.0</td>\n",
              "      <td>0.5</td>\n",
              "      <td>0.519084</td>\n",
              "      <td>0.0</td>\n",
              "      <td>0.032258</td>\n",
              "      <td>1.0</td>\n",
              "      <td>0.000000</td>\n",
              "      <td>0.666667</td>\n",
              "      <td>1.0</td>\n",
              "    </tr>\n",
              "    <tr>\n",
              "      <th>14</th>\n",
              "      <td>0.604167</td>\n",
              "      <td>0.0</td>\n",
              "      <td>1.000000</td>\n",
              "      <td>0.528302</td>\n",
              "      <td>0.539519</td>\n",
              "      <td>1.0</td>\n",
              "      <td>0.0</td>\n",
              "      <td>0.694656</td>\n",
              "      <td>0.0</td>\n",
              "      <td>0.161290</td>\n",
              "      <td>1.0</td>\n",
              "      <td>0.000000</td>\n",
              "      <td>0.666667</td>\n",
              "      <td>1.0</td>\n",
              "    </tr>\n",
              "    <tr>\n",
              "      <th>...</th>\n",
              "      <td>...</td>\n",
              "      <td>...</td>\n",
              "      <td>...</td>\n",
              "      <td>...</td>\n",
              "      <td>...</td>\n",
              "      <td>...</td>\n",
              "      <td>...</td>\n",
              "      <td>...</td>\n",
              "      <td>...</td>\n",
              "      <td>...</td>\n",
              "      <td>...</td>\n",
              "      <td>...</td>\n",
              "      <td>...</td>\n",
              "      <td>...</td>\n",
              "    </tr>\n",
              "    <tr>\n",
              "      <th>289</th>\n",
              "      <td>0.541667</td>\n",
              "      <td>0.0</td>\n",
              "      <td>0.000000</td>\n",
              "      <td>0.320755</td>\n",
              "      <td>0.271478</td>\n",
              "      <td>0.0</td>\n",
              "      <td>1.0</td>\n",
              "      <td>0.450382</td>\n",
              "      <td>1.0</td>\n",
              "      <td>0.322581</td>\n",
              "      <td>0.5</td>\n",
              "      <td>0.333333</td>\n",
              "      <td>1.000000</td>\n",
              "      <td>0.0</td>\n",
              "    </tr>\n",
              "    <tr>\n",
              "      <th>292</th>\n",
              "      <td>0.604167</td>\n",
              "      <td>0.0</td>\n",
              "      <td>0.000000</td>\n",
              "      <td>0.716981</td>\n",
              "      <td>0.340206</td>\n",
              "      <td>1.0</td>\n",
              "      <td>0.0</td>\n",
              "      <td>0.572519</td>\n",
              "      <td>1.0</td>\n",
              "      <td>0.451613</td>\n",
              "      <td>0.5</td>\n",
              "      <td>0.666667</td>\n",
              "      <td>0.333333</td>\n",
              "      <td>0.0</td>\n",
              "    </tr>\n",
              "    <tr>\n",
              "      <th>296</th>\n",
              "      <td>0.708333</td>\n",
              "      <td>0.0</td>\n",
              "      <td>0.000000</td>\n",
              "      <td>0.283019</td>\n",
              "      <td>0.243986</td>\n",
              "      <td>0.0</td>\n",
              "      <td>0.5</td>\n",
              "      <td>0.496183</td>\n",
              "      <td>1.0</td>\n",
              "      <td>0.000000</td>\n",
              "      <td>0.5</td>\n",
              "      <td>0.000000</td>\n",
              "      <td>0.666667</td>\n",
              "      <td>0.0</td>\n",
              "    </tr>\n",
              "    <tr>\n",
              "      <th>298</th>\n",
              "      <td>0.583333</td>\n",
              "      <td>0.0</td>\n",
              "      <td>0.000000</td>\n",
              "      <td>0.433962</td>\n",
              "      <td>0.395189</td>\n",
              "      <td>0.0</td>\n",
              "      <td>0.5</td>\n",
              "      <td>0.396947</td>\n",
              "      <td>1.0</td>\n",
              "      <td>0.032258</td>\n",
              "      <td>0.5</td>\n",
              "      <td>0.000000</td>\n",
              "      <td>1.000000</td>\n",
              "      <td>0.0</td>\n",
              "    </tr>\n",
              "    <tr>\n",
              "      <th>302</th>\n",
              "      <td>0.583333</td>\n",
              "      <td>0.0</td>\n",
              "      <td>0.333333</td>\n",
              "      <td>0.339623</td>\n",
              "      <td>0.378007</td>\n",
              "      <td>0.0</td>\n",
              "      <td>0.0</td>\n",
              "      <td>0.786260</td>\n",
              "      <td>0.0</td>\n",
              "      <td>0.000000</td>\n",
              "      <td>0.5</td>\n",
              "      <td>0.333333</td>\n",
              "      <td>0.666667</td>\n",
              "      <td>0.0</td>\n",
              "    </tr>\n",
              "  </tbody>\n",
              "</table>\n",
              "<p>95 rows × 14 columns</p>\n",
              "</div>"
            ],
            "text/plain": [
              "          age  sex        cp  trestbps  ...  slope        ca      thal  target\n",
              "2    0.250000  0.0  0.333333  0.339623  ...    1.0  0.000000  0.666667     1.0\n",
              "4    0.583333  0.0  0.000000  0.245283  ...    1.0  0.000000  0.666667     1.0\n",
              "6    0.562500  0.0  0.333333  0.433962  ...    0.5  0.000000  0.666667     1.0\n",
              "11   0.395833  0.0  0.666667  0.339623  ...    1.0  0.000000  0.666667     1.0\n",
              "14   0.604167  0.0  1.000000  0.528302  ...    1.0  0.000000  0.666667     1.0\n",
              "..        ...  ...       ...       ...  ...    ...       ...       ...     ...\n",
              "289  0.541667  0.0  0.000000  0.320755  ...    0.5  0.333333  1.000000     0.0\n",
              "292  0.604167  0.0  0.000000  0.716981  ...    0.5  0.666667  0.333333     0.0\n",
              "296  0.708333  0.0  0.000000  0.283019  ...    0.5  0.000000  0.666667     0.0\n",
              "298  0.583333  0.0  0.000000  0.433962  ...    0.5  0.000000  1.000000     0.0\n",
              "302  0.583333  0.0  0.333333  0.339623  ...    0.5  0.333333  0.666667     0.0\n",
              "\n",
              "[95 rows x 14 columns]"
            ]
          },
          "metadata": {
            "tags": []
          },
          "execution_count": 6
        }
      ]
    },
    {
      "cell_type": "markdown",
      "metadata": {
        "id": "N88-7yaXEIex",
        "colab_type": "text"
      },
      "source": [
        "### Some Models perform better with less input columns. Here's a check to some correlations\n",
        "\n",
        "I am using the absoulte of the correlation because the number 1 is high correlation and -1 is high negative correlation, which can be equally as useful, so I want to see the numbers closest to 1 and -1. These are easiest to visually compare when both are between 0 and 1"
      ]
    },
    {
      "cell_type": "code",
      "metadata": {
        "id": "GAoZ9Ui8EILW",
        "colab_type": "code",
        "colab": {
          "base_uri": "https://localhost:8080/",
          "height": 483
        },
        "outputId": "ef7f2386-713d-4023-9cf4-9890769df641"
      },
      "source": [
        "abs(df.corr())"
      ],
      "execution_count": 7,
      "outputs": [
        {
          "output_type": "execute_result",
          "data": {
            "text/html": [
              "<div>\n",
              "<style scoped>\n",
              "    .dataframe tbody tr th:only-of-type {\n",
              "        vertical-align: middle;\n",
              "    }\n",
              "\n",
              "    .dataframe tbody tr th {\n",
              "        vertical-align: top;\n",
              "    }\n",
              "\n",
              "    .dataframe thead th {\n",
              "        text-align: right;\n",
              "    }\n",
              "</style>\n",
              "<table border=\"1\" class=\"dataframe\">\n",
              "  <thead>\n",
              "    <tr style=\"text-align: right;\">\n",
              "      <th></th>\n",
              "      <th>age</th>\n",
              "      <th>sex</th>\n",
              "      <th>cp</th>\n",
              "      <th>trestbps</th>\n",
              "      <th>chol</th>\n",
              "      <th>fbs</th>\n",
              "      <th>restecg</th>\n",
              "      <th>thalach</th>\n",
              "      <th>exang</th>\n",
              "      <th>oldpeak</th>\n",
              "      <th>slope</th>\n",
              "      <th>ca</th>\n",
              "      <th>thal</th>\n",
              "      <th>target</th>\n",
              "    </tr>\n",
              "  </thead>\n",
              "  <tbody>\n",
              "    <tr>\n",
              "      <th>age</th>\n",
              "      <td>1.000000</td>\n",
              "      <td>0.083035</td>\n",
              "      <td>0.065925</td>\n",
              "      <td>0.294691</td>\n",
              "      <td>0.185768</td>\n",
              "      <td>0.132048</td>\n",
              "      <td>0.108174</td>\n",
              "      <td>0.397342</td>\n",
              "      <td>0.100344</td>\n",
              "      <td>0.198148</td>\n",
              "      <td>0.158937</td>\n",
              "      <td>0.369487</td>\n",
              "      <td>0.061014</td>\n",
              "      <td>0.229524</td>\n",
              "    </tr>\n",
              "    <tr>\n",
              "      <th>sex</th>\n",
              "      <td>0.083035</td>\n",
              "      <td>1.000000</td>\n",
              "      <td>0.050062</td>\n",
              "      <td>0.063643</td>\n",
              "      <td>0.173565</td>\n",
              "      <td>0.042146</td>\n",
              "      <td>0.070053</td>\n",
              "      <td>0.047775</td>\n",
              "      <td>0.143497</td>\n",
              "      <td>0.109087</td>\n",
              "      <td>0.038084</td>\n",
              "      <td>0.086967</td>\n",
              "      <td>0.217105</td>\n",
              "      <td>0.287036</td>\n",
              "    </tr>\n",
              "    <tr>\n",
              "      <th>cp</th>\n",
              "      <td>0.065925</td>\n",
              "      <td>0.050062</td>\n",
              "      <td>1.000000</td>\n",
              "      <td>0.047752</td>\n",
              "      <td>0.094081</td>\n",
              "      <td>0.109508</td>\n",
              "      <td>0.036169</td>\n",
              "      <td>0.287586</td>\n",
              "      <td>0.386488</td>\n",
              "      <td>0.146330</td>\n",
              "      <td>0.111870</td>\n",
              "      <td>0.223416</td>\n",
              "      <td>0.159570</td>\n",
              "      <td>0.425358</td>\n",
              "    </tr>\n",
              "    <tr>\n",
              "      <th>trestbps</th>\n",
              "      <td>0.294691</td>\n",
              "      <td>0.063643</td>\n",
              "      <td>0.047752</td>\n",
              "      <td>1.000000</td>\n",
              "      <td>0.157286</td>\n",
              "      <td>0.179427</td>\n",
              "      <td>0.120636</td>\n",
              "      <td>0.049409</td>\n",
              "      <td>0.067633</td>\n",
              "      <td>0.198999</td>\n",
              "      <td>0.128978</td>\n",
              "      <td>0.100795</td>\n",
              "      <td>0.069598</td>\n",
              "      <td>0.145789</td>\n",
              "    </tr>\n",
              "    <tr>\n",
              "      <th>chol</th>\n",
              "      <td>0.185768</td>\n",
              "      <td>0.173565</td>\n",
              "      <td>0.094081</td>\n",
              "      <td>0.157286</td>\n",
              "      <td>1.000000</td>\n",
              "      <td>0.017997</td>\n",
              "      <td>0.130037</td>\n",
              "      <td>0.009804</td>\n",
              "      <td>0.078803</td>\n",
              "      <td>0.036726</td>\n",
              "      <td>0.019915</td>\n",
              "      <td>0.146571</td>\n",
              "      <td>0.078601</td>\n",
              "      <td>0.100687</td>\n",
              "    </tr>\n",
              "    <tr>\n",
              "      <th>fbs</th>\n",
              "      <td>0.132048</td>\n",
              "      <td>0.042146</td>\n",
              "      <td>0.109508</td>\n",
              "      <td>0.179427</td>\n",
              "      <td>0.017997</td>\n",
              "      <td>1.000000</td>\n",
              "      <td>0.074128</td>\n",
              "      <td>0.002047</td>\n",
              "      <td>0.009705</td>\n",
              "      <td>0.008506</td>\n",
              "      <td>0.053468</td>\n",
              "      <td>0.143802</td>\n",
              "      <td>0.040677</td>\n",
              "      <td>0.013379</td>\n",
              "    </tr>\n",
              "    <tr>\n",
              "      <th>restecg</th>\n",
              "      <td>0.108174</td>\n",
              "      <td>0.070053</td>\n",
              "      <td>0.036169</td>\n",
              "      <td>0.120636</td>\n",
              "      <td>0.130037</td>\n",
              "      <td>0.074128</td>\n",
              "      <td>1.000000</td>\n",
              "      <td>0.037294</td>\n",
              "      <td>0.060959</td>\n",
              "      <td>0.050923</td>\n",
              "      <td>0.083244</td>\n",
              "      <td>0.113269</td>\n",
              "      <td>0.003379</td>\n",
              "      <td>0.127977</td>\n",
              "    </tr>\n",
              "    <tr>\n",
              "      <th>thalach</th>\n",
              "      <td>0.397342</td>\n",
              "      <td>0.047775</td>\n",
              "      <td>0.287586</td>\n",
              "      <td>0.049409</td>\n",
              "      <td>0.009804</td>\n",
              "      <td>0.002047</td>\n",
              "      <td>0.037294</td>\n",
              "      <td>1.000000</td>\n",
              "      <td>0.375010</td>\n",
              "      <td>0.341322</td>\n",
              "      <td>0.381868</td>\n",
              "      <td>0.262586</td>\n",
              "      <td>0.092476</td>\n",
              "      <td>0.417164</td>\n",
              "    </tr>\n",
              "    <tr>\n",
              "      <th>exang</th>\n",
              "      <td>0.100344</td>\n",
              "      <td>0.143497</td>\n",
              "      <td>0.386488</td>\n",
              "      <td>0.067633</td>\n",
              "      <td>0.078803</td>\n",
              "      <td>0.009705</td>\n",
              "      <td>0.060959</td>\n",
              "      <td>0.375010</td>\n",
              "      <td>1.000000</td>\n",
              "      <td>0.289534</td>\n",
              "      <td>0.254525</td>\n",
              "      <td>0.142674</td>\n",
              "      <td>0.206192</td>\n",
              "      <td>0.427991</td>\n",
              "    </tr>\n",
              "    <tr>\n",
              "      <th>oldpeak</th>\n",
              "      <td>0.198148</td>\n",
              "      <td>0.109087</td>\n",
              "      <td>0.146330</td>\n",
              "      <td>0.198999</td>\n",
              "      <td>0.036726</td>\n",
              "      <td>0.008506</td>\n",
              "      <td>0.050923</td>\n",
              "      <td>0.341322</td>\n",
              "      <td>0.289534</td>\n",
              "      <td>1.000000</td>\n",
              "      <td>0.578132</td>\n",
              "      <td>0.295813</td>\n",
              "      <td>0.211900</td>\n",
              "      <td>0.431618</td>\n",
              "    </tr>\n",
              "    <tr>\n",
              "      <th>slope</th>\n",
              "      <td>0.158937</td>\n",
              "      <td>0.038084</td>\n",
              "      <td>0.111870</td>\n",
              "      <td>0.128978</td>\n",
              "      <td>0.019915</td>\n",
              "      <td>0.053468</td>\n",
              "      <td>0.083244</td>\n",
              "      <td>0.381868</td>\n",
              "      <td>0.254525</td>\n",
              "      <td>0.578132</td>\n",
              "      <td>1.000000</td>\n",
              "      <td>0.109761</td>\n",
              "      <td>0.093959</td>\n",
              "      <td>0.343994</td>\n",
              "    </tr>\n",
              "    <tr>\n",
              "      <th>ca</th>\n",
              "      <td>0.369487</td>\n",
              "      <td>0.086967</td>\n",
              "      <td>0.223416</td>\n",
              "      <td>0.100795</td>\n",
              "      <td>0.146571</td>\n",
              "      <td>0.143802</td>\n",
              "      <td>0.113269</td>\n",
              "      <td>0.262586</td>\n",
              "      <td>0.142674</td>\n",
              "      <td>0.295813</td>\n",
              "      <td>0.109761</td>\n",
              "      <td>1.000000</td>\n",
              "      <td>0.162603</td>\n",
              "      <td>0.463189</td>\n",
              "    </tr>\n",
              "    <tr>\n",
              "      <th>thal</th>\n",
              "      <td>0.061014</td>\n",
              "      <td>0.217105</td>\n",
              "      <td>0.159570</td>\n",
              "      <td>0.069598</td>\n",
              "      <td>0.078601</td>\n",
              "      <td>0.040677</td>\n",
              "      <td>0.003379</td>\n",
              "      <td>0.092476</td>\n",
              "      <td>0.206192</td>\n",
              "      <td>0.211900</td>\n",
              "      <td>0.093959</td>\n",
              "      <td>0.162603</td>\n",
              "      <td>1.000000</td>\n",
              "      <td>0.347925</td>\n",
              "    </tr>\n",
              "    <tr>\n",
              "      <th>target</th>\n",
              "      <td>0.229524</td>\n",
              "      <td>0.287036</td>\n",
              "      <td>0.425358</td>\n",
              "      <td>0.145789</td>\n",
              "      <td>0.100687</td>\n",
              "      <td>0.013379</td>\n",
              "      <td>0.127977</td>\n",
              "      <td>0.417164</td>\n",
              "      <td>0.427991</td>\n",
              "      <td>0.431618</td>\n",
              "      <td>0.343994</td>\n",
              "      <td>0.463189</td>\n",
              "      <td>0.347925</td>\n",
              "      <td>1.000000</td>\n",
              "    </tr>\n",
              "  </tbody>\n",
              "</table>\n",
              "</div>"
            ],
            "text/plain": [
              "               age       sex        cp  ...        ca      thal    target\n",
              "age       1.000000  0.083035  0.065925  ...  0.369487  0.061014  0.229524\n",
              "sex       0.083035  1.000000  0.050062  ...  0.086967  0.217105  0.287036\n",
              "cp        0.065925  0.050062  1.000000  ...  0.223416  0.159570  0.425358\n",
              "trestbps  0.294691  0.063643  0.047752  ...  0.100795  0.069598  0.145789\n",
              "chol      0.185768  0.173565  0.094081  ...  0.146571  0.078601  0.100687\n",
              "fbs       0.132048  0.042146  0.109508  ...  0.143802  0.040677  0.013379\n",
              "restecg   0.108174  0.070053  0.036169  ...  0.113269  0.003379  0.127977\n",
              "thalach   0.397342  0.047775  0.287586  ...  0.262586  0.092476  0.417164\n",
              "exang     0.100344  0.143497  0.386488  ...  0.142674  0.206192  0.427991\n",
              "oldpeak   0.198148  0.109087  0.146330  ...  0.295813  0.211900  0.431618\n",
              "slope     0.158937  0.038084  0.111870  ...  0.109761  0.093959  0.343994\n",
              "ca        0.369487  0.086967  0.223416  ...  1.000000  0.162603  0.463189\n",
              "thal      0.061014  0.217105  0.159570  ...  0.162603  1.000000  0.347925\n",
              "target    0.229524  0.287036  0.425358  ...  0.463189  0.347925  1.000000\n",
              "\n",
              "[14 rows x 14 columns]"
            ]
          },
          "metadata": {
            "tags": []
          },
          "execution_count": 7
        }
      ]
    },
    {
      "cell_type": "code",
      "metadata": {
        "id": "UEZdWwfwEdU5",
        "colab_type": "code",
        "colab": {
          "base_uri": "https://localhost:8080/",
          "height": 483
        },
        "outputId": "b927104a-7848-4b36-c087-75b391b08af2"
      },
      "source": [
        "abs(female_df.corr())"
      ],
      "execution_count": 8,
      "outputs": [
        {
          "output_type": "execute_result",
          "data": {
            "text/html": [
              "<div>\n",
              "<style scoped>\n",
              "    .dataframe tbody tr th:only-of-type {\n",
              "        vertical-align: middle;\n",
              "    }\n",
              "\n",
              "    .dataframe tbody tr th {\n",
              "        vertical-align: top;\n",
              "    }\n",
              "\n",
              "    .dataframe thead th {\n",
              "        text-align: right;\n",
              "    }\n",
              "</style>\n",
              "<table border=\"1\" class=\"dataframe\">\n",
              "  <thead>\n",
              "    <tr style=\"text-align: right;\">\n",
              "      <th></th>\n",
              "      <th>age</th>\n",
              "      <th>sex</th>\n",
              "      <th>cp</th>\n",
              "      <th>trestbps</th>\n",
              "      <th>chol</th>\n",
              "      <th>fbs</th>\n",
              "      <th>restecg</th>\n",
              "      <th>thalach</th>\n",
              "      <th>exang</th>\n",
              "      <th>oldpeak</th>\n",
              "      <th>slope</th>\n",
              "      <th>ca</th>\n",
              "      <th>thal</th>\n",
              "      <th>target</th>\n",
              "    </tr>\n",
              "  </thead>\n",
              "  <tbody>\n",
              "    <tr>\n",
              "      <th>age</th>\n",
              "      <td>1.000000</td>\n",
              "      <td>NaN</td>\n",
              "      <td>0.042740</td>\n",
              "      <td>0.330028</td>\n",
              "      <td>0.230877</td>\n",
              "      <td>0.129998</td>\n",
              "      <td>0.000643</td>\n",
              "      <td>0.414705</td>\n",
              "      <td>0.025995</td>\n",
              "      <td>0.187851</td>\n",
              "      <td>0.054979</td>\n",
              "      <td>0.404493</td>\n",
              "      <td>0.119702</td>\n",
              "      <td>0.216938</td>\n",
              "    </tr>\n",
              "    <tr>\n",
              "      <th>sex</th>\n",
              "      <td>NaN</td>\n",
              "      <td>NaN</td>\n",
              "      <td>NaN</td>\n",
              "      <td>NaN</td>\n",
              "      <td>NaN</td>\n",
              "      <td>NaN</td>\n",
              "      <td>NaN</td>\n",
              "      <td>NaN</td>\n",
              "      <td>NaN</td>\n",
              "      <td>NaN</td>\n",
              "      <td>NaN</td>\n",
              "      <td>NaN</td>\n",
              "      <td>NaN</td>\n",
              "      <td>NaN</td>\n",
              "    </tr>\n",
              "    <tr>\n",
              "      <th>cp</th>\n",
              "      <td>0.042740</td>\n",
              "      <td>NaN</td>\n",
              "      <td>1.000000</td>\n",
              "      <td>0.149352</td>\n",
              "      <td>0.125618</td>\n",
              "      <td>0.020342</td>\n",
              "      <td>0.083732</td>\n",
              "      <td>0.124913</td>\n",
              "      <td>0.430631</td>\n",
              "      <td>0.271751</td>\n",
              "      <td>0.288619</td>\n",
              "      <td>0.255866</td>\n",
              "      <td>0.285839</td>\n",
              "      <td>0.519812</td>\n",
              "    </tr>\n",
              "    <tr>\n",
              "      <th>trestbps</th>\n",
              "      <td>0.330028</td>\n",
              "      <td>NaN</td>\n",
              "      <td>0.149352</td>\n",
              "      <td>1.000000</td>\n",
              "      <td>0.227524</td>\n",
              "      <td>0.233623</td>\n",
              "      <td>0.035639</td>\n",
              "      <td>0.103525</td>\n",
              "      <td>0.315445</td>\n",
              "      <td>0.397557</td>\n",
              "      <td>0.256410</td>\n",
              "      <td>0.283732</td>\n",
              "      <td>0.221855</td>\n",
              "      <td>0.388733</td>\n",
              "    </tr>\n",
              "    <tr>\n",
              "      <th>chol</th>\n",
              "      <td>0.230877</td>\n",
              "      <td>NaN</td>\n",
              "      <td>0.125618</td>\n",
              "      <td>0.227524</td>\n",
              "      <td>1.000000</td>\n",
              "      <td>0.184531</td>\n",
              "      <td>0.250296</td>\n",
              "      <td>0.010497</td>\n",
              "      <td>0.138261</td>\n",
              "      <td>0.096437</td>\n",
              "      <td>0.191201</td>\n",
              "      <td>0.148811</td>\n",
              "      <td>0.195298</td>\n",
              "      <td>0.171454</td>\n",
              "    </tr>\n",
              "    <tr>\n",
              "      <th>fbs</th>\n",
              "      <td>0.129998</td>\n",
              "      <td>NaN</td>\n",
              "      <td>0.020342</td>\n",
              "      <td>0.233623</td>\n",
              "      <td>0.184531</td>\n",
              "      <td>1.000000</td>\n",
              "      <td>0.168573</td>\n",
              "      <td>0.158817</td>\n",
              "      <td>0.166832</td>\n",
              "      <td>0.115672</td>\n",
              "      <td>0.043939</td>\n",
              "      <td>0.263285</td>\n",
              "      <td>0.044784</td>\n",
              "      <td>0.216463</td>\n",
              "    </tr>\n",
              "    <tr>\n",
              "      <th>restecg</th>\n",
              "      <td>0.000643</td>\n",
              "      <td>NaN</td>\n",
              "      <td>0.083732</td>\n",
              "      <td>0.035639</td>\n",
              "      <td>0.250296</td>\n",
              "      <td>0.168573</td>\n",
              "      <td>1.000000</td>\n",
              "      <td>0.065213</td>\n",
              "      <td>0.011853</td>\n",
              "      <td>0.091199</td>\n",
              "      <td>0.072624</td>\n",
              "      <td>0.122843</td>\n",
              "      <td>0.027781</td>\n",
              "      <td>0.039124</td>\n",
              "    </tr>\n",
              "    <tr>\n",
              "      <th>thalach</th>\n",
              "      <td>0.414705</td>\n",
              "      <td>NaN</td>\n",
              "      <td>0.124913</td>\n",
              "      <td>0.103525</td>\n",
              "      <td>0.010497</td>\n",
              "      <td>0.158817</td>\n",
              "      <td>0.065213</td>\n",
              "      <td>1.000000</td>\n",
              "      <td>0.124217</td>\n",
              "      <td>0.252843</td>\n",
              "      <td>0.333512</td>\n",
              "      <td>0.142687</td>\n",
              "      <td>0.136702</td>\n",
              "      <td>0.250098</td>\n",
              "    </tr>\n",
              "    <tr>\n",
              "      <th>exang</th>\n",
              "      <td>0.025995</td>\n",
              "      <td>NaN</td>\n",
              "      <td>0.430631</td>\n",
              "      <td>0.315445</td>\n",
              "      <td>0.138261</td>\n",
              "      <td>0.166832</td>\n",
              "      <td>0.011853</td>\n",
              "      <td>0.124217</td>\n",
              "      <td>1.000000</td>\n",
              "      <td>0.156210</td>\n",
              "      <td>0.273712</td>\n",
              "      <td>0.020615</td>\n",
              "      <td>0.257215</td>\n",
              "      <td>0.484805</td>\n",
              "    </tr>\n",
              "    <tr>\n",
              "      <th>oldpeak</th>\n",
              "      <td>0.187851</td>\n",
              "      <td>NaN</td>\n",
              "      <td>0.271751</td>\n",
              "      <td>0.397557</td>\n",
              "      <td>0.096437</td>\n",
              "      <td>0.115672</td>\n",
              "      <td>0.091199</td>\n",
              "      <td>0.252843</td>\n",
              "      <td>0.156210</td>\n",
              "      <td>1.000000</td>\n",
              "      <td>0.588783</td>\n",
              "      <td>0.467979</td>\n",
              "      <td>0.373970</td>\n",
              "      <td>0.506418</td>\n",
              "    </tr>\n",
              "    <tr>\n",
              "      <th>slope</th>\n",
              "      <td>0.054979</td>\n",
              "      <td>NaN</td>\n",
              "      <td>0.288619</td>\n",
              "      <td>0.256410</td>\n",
              "      <td>0.191201</td>\n",
              "      <td>0.043939</td>\n",
              "      <td>0.072624</td>\n",
              "      <td>0.333512</td>\n",
              "      <td>0.273712</td>\n",
              "      <td>0.588783</td>\n",
              "      <td>1.000000</td>\n",
              "      <td>0.199656</td>\n",
              "      <td>0.318852</td>\n",
              "      <td>0.464695</td>\n",
              "    </tr>\n",
              "    <tr>\n",
              "      <th>ca</th>\n",
              "      <td>0.404493</td>\n",
              "      <td>NaN</td>\n",
              "      <td>0.255866</td>\n",
              "      <td>0.283732</td>\n",
              "      <td>0.148811</td>\n",
              "      <td>0.263285</td>\n",
              "      <td>0.122843</td>\n",
              "      <td>0.142687</td>\n",
              "      <td>0.020615</td>\n",
              "      <td>0.467979</td>\n",
              "      <td>0.199656</td>\n",
              "      <td>1.000000</td>\n",
              "      <td>0.301096</td>\n",
              "      <td>0.485241</td>\n",
              "    </tr>\n",
              "    <tr>\n",
              "      <th>thal</th>\n",
              "      <td>0.119702</td>\n",
              "      <td>NaN</td>\n",
              "      <td>0.285839</td>\n",
              "      <td>0.221855</td>\n",
              "      <td>0.195298</td>\n",
              "      <td>0.044784</td>\n",
              "      <td>0.027781</td>\n",
              "      <td>0.136702</td>\n",
              "      <td>0.257215</td>\n",
              "      <td>0.373970</td>\n",
              "      <td>0.318852</td>\n",
              "      <td>0.301096</td>\n",
              "      <td>1.000000</td>\n",
              "      <td>0.517128</td>\n",
              "    </tr>\n",
              "    <tr>\n",
              "      <th>target</th>\n",
              "      <td>0.216938</td>\n",
              "      <td>NaN</td>\n",
              "      <td>0.519812</td>\n",
              "      <td>0.388733</td>\n",
              "      <td>0.171454</td>\n",
              "      <td>0.216463</td>\n",
              "      <td>0.039124</td>\n",
              "      <td>0.250098</td>\n",
              "      <td>0.484805</td>\n",
              "      <td>0.506418</td>\n",
              "      <td>0.464695</td>\n",
              "      <td>0.485241</td>\n",
              "      <td>0.517128</td>\n",
              "      <td>1.000000</td>\n",
              "    </tr>\n",
              "  </tbody>\n",
              "</table>\n",
              "</div>"
            ],
            "text/plain": [
              "               age  sex        cp  ...        ca      thal    target\n",
              "age       1.000000  NaN  0.042740  ...  0.404493  0.119702  0.216938\n",
              "sex            NaN  NaN       NaN  ...       NaN       NaN       NaN\n",
              "cp        0.042740  NaN  1.000000  ...  0.255866  0.285839  0.519812\n",
              "trestbps  0.330028  NaN  0.149352  ...  0.283732  0.221855  0.388733\n",
              "chol      0.230877  NaN  0.125618  ...  0.148811  0.195298  0.171454\n",
              "fbs       0.129998  NaN  0.020342  ...  0.263285  0.044784  0.216463\n",
              "restecg   0.000643  NaN  0.083732  ...  0.122843  0.027781  0.039124\n",
              "thalach   0.414705  NaN  0.124913  ...  0.142687  0.136702  0.250098\n",
              "exang     0.025995  NaN  0.430631  ...  0.020615  0.257215  0.484805\n",
              "oldpeak   0.187851  NaN  0.271751  ...  0.467979  0.373970  0.506418\n",
              "slope     0.054979  NaN  0.288619  ...  0.199656  0.318852  0.464695\n",
              "ca        0.404493  NaN  0.255866  ...  1.000000  0.301096  0.485241\n",
              "thal      0.119702  NaN  0.285839  ...  0.301096  1.000000  0.517128\n",
              "target    0.216938  NaN  0.519812  ...  0.485241  0.517128  1.000000\n",
              "\n",
              "[14 rows x 14 columns]"
            ]
          },
          "metadata": {
            "tags": []
          },
          "execution_count": 8
        }
      ]
    },
    {
      "cell_type": "code",
      "metadata": {
        "id": "w3mTrhP5EgqJ",
        "colab_type": "code",
        "colab": {
          "base_uri": "https://localhost:8080/",
          "height": 483
        },
        "outputId": "6b62fd7c-79a2-4f6b-be91-c080074ebdf8"
      },
      "source": [
        "abs(male_df.corr())"
      ],
      "execution_count": 9,
      "outputs": [
        {
          "output_type": "execute_result",
          "data": {
            "text/html": [
              "<div>\n",
              "<style scoped>\n",
              "    .dataframe tbody tr th:only-of-type {\n",
              "        vertical-align: middle;\n",
              "    }\n",
              "\n",
              "    .dataframe tbody tr th {\n",
              "        vertical-align: top;\n",
              "    }\n",
              "\n",
              "    .dataframe thead th {\n",
              "        text-align: right;\n",
              "    }\n",
              "</style>\n",
              "<table border=\"1\" class=\"dataframe\">\n",
              "  <thead>\n",
              "    <tr style=\"text-align: right;\">\n",
              "      <th></th>\n",
              "      <th>age</th>\n",
              "      <th>sex</th>\n",
              "      <th>cp</th>\n",
              "      <th>trestbps</th>\n",
              "      <th>chol</th>\n",
              "      <th>fbs</th>\n",
              "      <th>restecg</th>\n",
              "      <th>thalach</th>\n",
              "      <th>exang</th>\n",
              "      <th>oldpeak</th>\n",
              "      <th>slope</th>\n",
              "      <th>ca</th>\n",
              "      <th>thal</th>\n",
              "      <th>target</th>\n",
              "    </tr>\n",
              "  </thead>\n",
              "  <tbody>\n",
              "    <tr>\n",
              "      <th>age</th>\n",
              "      <td>1.000000</td>\n",
              "      <td>NaN</td>\n",
              "      <td>0.083283</td>\n",
              "      <td>0.268990</td>\n",
              "      <td>0.138865</td>\n",
              "      <td>0.139436</td>\n",
              "      <td>0.177256</td>\n",
              "      <td>0.402063</td>\n",
              "      <td>0.152700</td>\n",
              "      <td>0.219708</td>\n",
              "      <td>0.213911</td>\n",
              "      <td>0.369258</td>\n",
              "      <td>0.071111</td>\n",
              "      <td>0.288099</td>\n",
              "    </tr>\n",
              "    <tr>\n",
              "      <th>sex</th>\n",
              "      <td>NaN</td>\n",
              "      <td>NaN</td>\n",
              "      <td>NaN</td>\n",
              "      <td>NaN</td>\n",
              "      <td>NaN</td>\n",
              "      <td>NaN</td>\n",
              "      <td>NaN</td>\n",
              "      <td>NaN</td>\n",
              "      <td>NaN</td>\n",
              "      <td>NaN</td>\n",
              "      <td>NaN</td>\n",
              "      <td>NaN</td>\n",
              "      <td>NaN</td>\n",
              "      <td>NaN</td>\n",
              "    </tr>\n",
              "    <tr>\n",
              "      <th>cp</th>\n",
              "      <td>0.083283</td>\n",
              "      <td>NaN</td>\n",
              "      <td>1.000000</td>\n",
              "      <td>0.140464</td>\n",
              "      <td>0.095136</td>\n",
              "      <td>0.147613</td>\n",
              "      <td>0.009166</td>\n",
              "      <td>0.343442</td>\n",
              "      <td>0.366340</td>\n",
              "      <td>0.088892</td>\n",
              "      <td>0.037944</td>\n",
              "      <td>0.206111</td>\n",
              "      <td>0.117062</td>\n",
              "      <td>0.395772</td>\n",
              "    </tr>\n",
              "    <tr>\n",
              "      <th>trestbps</th>\n",
              "      <td>0.268990</td>\n",
              "      <td>NaN</td>\n",
              "      <td>0.140464</td>\n",
              "      <td>1.000000</td>\n",
              "      <td>0.092854</td>\n",
              "      <td>0.159258</td>\n",
              "      <td>0.178371</td>\n",
              "      <td>0.030797</td>\n",
              "      <td>0.032760</td>\n",
              "      <td>0.111569</td>\n",
              "      <td>0.069337</td>\n",
              "      <td>0.020538</td>\n",
              "      <td>0.041333</td>\n",
              "      <td>0.071310</td>\n",
              "    </tr>\n",
              "    <tr>\n",
              "      <th>chol</th>\n",
              "      <td>0.138865</td>\n",
              "      <td>NaN</td>\n",
              "      <td>0.095136</td>\n",
              "      <td>0.092854</td>\n",
              "      <td>1.000000</td>\n",
              "      <td>0.064505</td>\n",
              "      <td>0.073830</td>\n",
              "      <td>0.034175</td>\n",
              "      <td>0.092447</td>\n",
              "      <td>0.034413</td>\n",
              "      <td>0.091612</td>\n",
              "      <td>0.178317</td>\n",
              "      <td>0.099661</td>\n",
              "      <td>0.158108</td>\n",
              "    </tr>\n",
              "    <tr>\n",
              "      <th>fbs</th>\n",
              "      <td>0.139436</td>\n",
              "      <td>NaN</td>\n",
              "      <td>0.147613</td>\n",
              "      <td>0.159258</td>\n",
              "      <td>0.064505</td>\n",
              "      <td>1.000000</td>\n",
              "      <td>0.026595</td>\n",
              "      <td>0.056187</td>\n",
              "      <td>0.057083</td>\n",
              "      <td>0.041533</td>\n",
              "      <td>0.090643</td>\n",
              "      <td>0.092718</td>\n",
              "      <td>0.078478</td>\n",
              "      <td>0.079225</td>\n",
              "    </tr>\n",
              "    <tr>\n",
              "      <th>restecg</th>\n",
              "      <td>0.177256</td>\n",
              "      <td>NaN</td>\n",
              "      <td>0.009166</td>\n",
              "      <td>0.178371</td>\n",
              "      <td>0.073830</td>\n",
              "      <td>0.026595</td>\n",
              "      <td>1.000000</td>\n",
              "      <td>0.076434</td>\n",
              "      <td>0.080180</td>\n",
              "      <td>0.020663</td>\n",
              "      <td>0.085054</td>\n",
              "      <td>0.101315</td>\n",
              "      <td>0.007334</td>\n",
              "      <td>0.146698</td>\n",
              "    </tr>\n",
              "    <tr>\n",
              "      <th>thalach</th>\n",
              "      <td>0.402063</td>\n",
              "      <td>NaN</td>\n",
              "      <td>0.343442</td>\n",
              "      <td>0.030797</td>\n",
              "      <td>0.034175</td>\n",
              "      <td>0.056187</td>\n",
              "      <td>0.076434</td>\n",
              "      <td>1.000000</td>\n",
              "      <td>0.456666</td>\n",
              "      <td>0.371109</td>\n",
              "      <td>0.398969</td>\n",
              "      <td>0.301848</td>\n",
              "      <td>0.071358</td>\n",
              "      <td>0.480260</td>\n",
              "    </tr>\n",
              "    <tr>\n",
              "      <th>exang</th>\n",
              "      <td>0.152700</td>\n",
              "      <td>NaN</td>\n",
              "      <td>0.366340</td>\n",
              "      <td>0.032760</td>\n",
              "      <td>0.092447</td>\n",
              "      <td>0.057083</td>\n",
              "      <td>0.080180</td>\n",
              "      <td>0.456666</td>\n",
              "      <td>1.000000</td>\n",
              "      <td>0.326302</td>\n",
              "      <td>0.243627</td>\n",
              "      <td>0.173969</td>\n",
              "      <td>0.162471</td>\n",
              "      <td>0.380494</td>\n",
              "    </tr>\n",
              "    <tr>\n",
              "      <th>oldpeak</th>\n",
              "      <td>0.219708</td>\n",
              "      <td>NaN</td>\n",
              "      <td>0.088892</td>\n",
              "      <td>0.111569</td>\n",
              "      <td>0.034413</td>\n",
              "      <td>0.041533</td>\n",
              "      <td>0.020663</td>\n",
              "      <td>0.371109</td>\n",
              "      <td>0.326302</td>\n",
              "      <td>1.000000</td>\n",
              "      <td>0.573235</td>\n",
              "      <td>0.215822</td>\n",
              "      <td>0.144566</td>\n",
              "      <td>0.387134</td>\n",
              "    </tr>\n",
              "    <tr>\n",
              "      <th>slope</th>\n",
              "      <td>0.213911</td>\n",
              "      <td>NaN</td>\n",
              "      <td>0.037944</td>\n",
              "      <td>0.069337</td>\n",
              "      <td>0.091612</td>\n",
              "      <td>0.090643</td>\n",
              "      <td>0.085054</td>\n",
              "      <td>0.398969</td>\n",
              "      <td>0.243627</td>\n",
              "      <td>0.573235</td>\n",
              "      <td>1.000000</td>\n",
              "      <td>0.069225</td>\n",
              "      <td>0.022345</td>\n",
              "      <td>0.302901</td>\n",
              "    </tr>\n",
              "    <tr>\n",
              "      <th>ca</th>\n",
              "      <td>0.369258</td>\n",
              "      <td>NaN</td>\n",
              "      <td>0.206111</td>\n",
              "      <td>0.020538</td>\n",
              "      <td>0.178317</td>\n",
              "      <td>0.092718</td>\n",
              "      <td>0.101315</td>\n",
              "      <td>0.301848</td>\n",
              "      <td>0.173969</td>\n",
              "      <td>0.215822</td>\n",
              "      <td>0.069225</td>\n",
              "      <td>1.000000</td>\n",
              "      <td>0.106531</td>\n",
              "      <td>0.449529</td>\n",
              "    </tr>\n",
              "    <tr>\n",
              "      <th>thal</th>\n",
              "      <td>0.071111</td>\n",
              "      <td>NaN</td>\n",
              "      <td>0.117062</td>\n",
              "      <td>0.041333</td>\n",
              "      <td>0.099661</td>\n",
              "      <td>0.078478</td>\n",
              "      <td>0.007334</td>\n",
              "      <td>0.071358</td>\n",
              "      <td>0.162471</td>\n",
              "      <td>0.144566</td>\n",
              "      <td>0.022345</td>\n",
              "      <td>0.106531</td>\n",
              "      <td>1.000000</td>\n",
              "      <td>0.251379</td>\n",
              "    </tr>\n",
              "    <tr>\n",
              "      <th>target</th>\n",
              "      <td>0.288099</td>\n",
              "      <td>NaN</td>\n",
              "      <td>0.395772</td>\n",
              "      <td>0.071310</td>\n",
              "      <td>0.158108</td>\n",
              "      <td>0.079225</td>\n",
              "      <td>0.146698</td>\n",
              "      <td>0.480260</td>\n",
              "      <td>0.380494</td>\n",
              "      <td>0.387134</td>\n",
              "      <td>0.302901</td>\n",
              "      <td>0.449529</td>\n",
              "      <td>0.251379</td>\n",
              "      <td>1.000000</td>\n",
              "    </tr>\n",
              "  </tbody>\n",
              "</table>\n",
              "</div>"
            ],
            "text/plain": [
              "               age  sex        cp  ...        ca      thal    target\n",
              "age       1.000000  NaN  0.083283  ...  0.369258  0.071111  0.288099\n",
              "sex            NaN  NaN       NaN  ...       NaN       NaN       NaN\n",
              "cp        0.083283  NaN  1.000000  ...  0.206111  0.117062  0.395772\n",
              "trestbps  0.268990  NaN  0.140464  ...  0.020538  0.041333  0.071310\n",
              "chol      0.138865  NaN  0.095136  ...  0.178317  0.099661  0.158108\n",
              "fbs       0.139436  NaN  0.147613  ...  0.092718  0.078478  0.079225\n",
              "restecg   0.177256  NaN  0.009166  ...  0.101315  0.007334  0.146698\n",
              "thalach   0.402063  NaN  0.343442  ...  0.301848  0.071358  0.480260\n",
              "exang     0.152700  NaN  0.366340  ...  0.173969  0.162471  0.380494\n",
              "oldpeak   0.219708  NaN  0.088892  ...  0.215822  0.144566  0.387134\n",
              "slope     0.213911  NaN  0.037944  ...  0.069225  0.022345  0.302901\n",
              "ca        0.369258  NaN  0.206111  ...  1.000000  0.106531  0.449529\n",
              "thal      0.071111  NaN  0.117062  ...  0.106531  1.000000  0.251379\n",
              "target    0.288099  NaN  0.395772  ...  0.449529  0.251379  1.000000\n",
              "\n",
              "[14 rows x 14 columns]"
            ]
          },
          "metadata": {
            "tags": []
          },
          "execution_count": 9
        }
      ]
    },
    {
      "cell_type": "code",
      "metadata": {
        "id": "ZQCc3T8AE-4F",
        "colab_type": "code",
        "colab": {}
      },
      "source": [
        "#this reduces our columns by about half based on the correlations on the primary data set\n",
        "reduced_columns = ['cp', 'thalach', 'exang', 'oldpeak', 'slope', 'ca', 'thal', 'target']"
      ],
      "execution_count": 10,
      "outputs": []
    },
    {
      "cell_type": "code",
      "metadata": {
        "id": "tMPC5-HjHAR_",
        "colab_type": "code",
        "colab": {}
      },
      "source": [
        "#I'm going to go ahead and create reduced_df, if the reduced gets a better score we can go back and see if m or f reduced also gets better scores\n",
        "reduced_df = df[reduced_columns]"
      ],
      "execution_count": 11,
      "outputs": []
    },
    {
      "cell_type": "markdown",
      "metadata": {
        "id": "RD2jFiniAdhN",
        "colab_type": "text"
      },
      "source": [
        "# Models\n",
        "I will use Train Test Split to split the models each time before running models so that I can reuse variable names and I will use the same seed to control the randomness"
      ]
    },
    {
      "cell_type": "markdown",
      "metadata": {
        "id": "vlha0tFnBORk",
        "colab_type": "text"
      },
      "source": [
        "## Regression"
      ]
    },
    {
      "cell_type": "code",
      "metadata": {
        "id": "MQ8zAzyXCe9l",
        "colab_type": "code",
        "colab": {}
      },
      "source": [
        "r_state = 52"
      ],
      "execution_count": 12,
      "outputs": []
    },
    {
      "cell_type": "code",
      "metadata": {
        "id": "GTJ7u5348WWQ",
        "colab_type": "code",
        "colab": {}
      },
      "source": [
        "#Split Data\n",
        "X = df.drop(columns =['target'])\n",
        "y = df['target']\n",
        "X_train, X_test, y_train, y_test = train_test_split(X, y, test_size=0.33, random_state=r_state)"
      ],
      "execution_count": 13,
      "outputs": []
    },
    {
      "cell_type": "code",
      "metadata": {
        "id": "OLdpZBYZ__3P",
        "colab_type": "code",
        "colab": {
          "base_uri": "https://localhost:8080/",
          "height": 170
        },
        "outputId": "6ccc5985-7140-4b0f-8a09-faef7c50a973"
      },
      "source": [
        "logistic_model = LogisticRegression(random_state=35)\n",
        "logistic_model.fit(X_train, y_train)\n",
        "logistic_model.score(X_test, y_test)"
      ],
      "execution_count": 14,
      "outputs": [
        {
          "output_type": "stream",
          "text": [
            "/usr/local/lib/python3.6/dist-packages/sklearn/linear_model/_logistic.py:940: ConvergenceWarning: lbfgs failed to converge (status=1):\n",
            "STOP: TOTAL NO. of ITERATIONS REACHED LIMIT.\n",
            "\n",
            "Increase the number of iterations (max_iter) or scale the data as shown in:\n",
            "    https://scikit-learn.org/stable/modules/preprocessing.html\n",
            "Please also refer to the documentation for alternative solver options:\n",
            "    https://scikit-learn.org/stable/modules/linear_model.html#logistic-regression\n",
            "  extra_warning_msg=_LOGISTIC_SOLVER_CONVERGENCE_MSG)\n"
          ],
          "name": "stderr"
        },
        {
          "output_type": "execute_result",
          "data": {
            "text/plain": [
              "0.8080808080808081"
            ]
          },
          "metadata": {
            "tags": []
          },
          "execution_count": 14
        }
      ]
    },
    {
      "cell_type": "code",
      "metadata": {
        "id": "K25omyoPB-VN",
        "colab_type": "code",
        "colab": {
          "base_uri": "https://localhost:8080/",
          "height": 170
        },
        "outputId": "b99e2895-ab83-427a-9b43-3d5961525657"
      },
      "source": [
        "X = female_df.drop(columns =['target'])\n",
        "y = female_df['target']\n",
        "X_train, X_test, y_train, y_test = train_test_split(X, y, test_size=0.33, random_state = 42)\n",
        "f_model = LogisticRegression(random_state=r_state)\n",
        "f_model.fit(X_train, y_train)\n",
        "f_model.score(X_test, y_test)"
      ],
      "execution_count": 15,
      "outputs": [
        {
          "output_type": "stream",
          "text": [
            "/usr/local/lib/python3.6/dist-packages/sklearn/linear_model/_logistic.py:940: ConvergenceWarning: lbfgs failed to converge (status=1):\n",
            "STOP: TOTAL NO. of ITERATIONS REACHED LIMIT.\n",
            "\n",
            "Increase the number of iterations (max_iter) or scale the data as shown in:\n",
            "    https://scikit-learn.org/stable/modules/preprocessing.html\n",
            "Please also refer to the documentation for alternative solver options:\n",
            "    https://scikit-learn.org/stable/modules/linear_model.html#logistic-regression\n",
            "  extra_warning_msg=_LOGISTIC_SOLVER_CONVERGENCE_MSG)\n"
          ],
          "name": "stderr"
        },
        {
          "output_type": "execute_result",
          "data": {
            "text/plain": [
              "0.84375"
            ]
          },
          "metadata": {
            "tags": []
          },
          "execution_count": 15
        }
      ]
    },
    {
      "cell_type": "code",
      "metadata": {
        "id": "c8H_7ThTCWoa",
        "colab_type": "code",
        "colab": {
          "base_uri": "https://localhost:8080/",
          "height": 170
        },
        "outputId": "75659f18-a057-4e4b-8b14-a753c5f32ee6"
      },
      "source": [
        "X = male_df.drop(columns =['target'])\n",
        "y = male_df['target']\n",
        "X_train, X_test, y_train, y_test = train_test_split(X, y, test_size=0.33, random_state = 42)\n",
        "m_model = LogisticRegression(random_state=r_state)\n",
        "m_model.fit(X_train, y_train)\n",
        "m_model.score(X_test, y_test)"
      ],
      "execution_count": 16,
      "outputs": [
        {
          "output_type": "stream",
          "text": [
            "/usr/local/lib/python3.6/dist-packages/sklearn/linear_model/_logistic.py:940: ConvergenceWarning: lbfgs failed to converge (status=1):\n",
            "STOP: TOTAL NO. of ITERATIONS REACHED LIMIT.\n",
            "\n",
            "Increase the number of iterations (max_iter) or scale the data as shown in:\n",
            "    https://scikit-learn.org/stable/modules/preprocessing.html\n",
            "Please also refer to the documentation for alternative solver options:\n",
            "    https://scikit-learn.org/stable/modules/linear_model.html#logistic-regression\n",
            "  extra_warning_msg=_LOGISTIC_SOLVER_CONVERGENCE_MSG)\n"
          ],
          "name": "stderr"
        },
        {
          "output_type": "execute_result",
          "data": {
            "text/plain": [
              "0.8059701492537313"
            ]
          },
          "metadata": {
            "tags": []
          },
          "execution_count": 16
        }
      ]
    },
    {
      "cell_type": "code",
      "metadata": {
        "id": "lP5mFP_ECt1I",
        "colab_type": "code",
        "colab": {
          "base_uri": "https://localhost:8080/",
          "height": 34
        },
        "outputId": "1f5151bc-7512-4152-85b6-9a4332a87467"
      },
      "source": [
        "#On Normalized data\n",
        "X = normalized_df.drop(columns =['target'])\n",
        "y = normalized_df['target']\n",
        "X_train, X_test, y_train, y_test = train_test_split(X, y, test_size=0.33, random_state = 42)\n",
        "norm_model = LogisticRegression(random_state=r_state)\n",
        "norm_model.fit(X_train, y_train)\n",
        "norm_model.score(X_test, y_test)"
      ],
      "execution_count": 17,
      "outputs": [
        {
          "output_type": "execute_result",
          "data": {
            "text/plain": [
              "0.8181818181818182"
            ]
          },
          "metadata": {
            "tags": []
          },
          "execution_count": 17
        }
      ]
    },
    {
      "cell_type": "code",
      "metadata": {
        "id": "EymsZJO0ISt_",
        "colab_type": "code",
        "colab": {
          "base_uri": "https://localhost:8080/",
          "height": 170
        },
        "outputId": "9523678a-25ac-4cfc-d579-e694df28d761"
      },
      "source": [
        "#On One-Hot encoded data\n",
        "X = onehot_df.drop(columns =['target'])\n",
        "y = onehot_df['target']\n",
        "X_train, X_test, y_train, y_test = train_test_split(X, y, test_size=0.33, random_state = 42)\n",
        "norm_model = LogisticRegression(random_state=r_state)\n",
        "norm_model.fit(X_train, y_train)\n",
        "norm_model.score(X_test, y_test)"
      ],
      "execution_count": 18,
      "outputs": [
        {
          "output_type": "stream",
          "text": [
            "/usr/local/lib/python3.6/dist-packages/sklearn/linear_model/_logistic.py:940: ConvergenceWarning: lbfgs failed to converge (status=1):\n",
            "STOP: TOTAL NO. of ITERATIONS REACHED LIMIT.\n",
            "\n",
            "Increase the number of iterations (max_iter) or scale the data as shown in:\n",
            "    https://scikit-learn.org/stable/modules/preprocessing.html\n",
            "Please also refer to the documentation for alternative solver options:\n",
            "    https://scikit-learn.org/stable/modules/linear_model.html#logistic-regression\n",
            "  extra_warning_msg=_LOGISTIC_SOLVER_CONVERGENCE_MSG)\n"
          ],
          "name": "stderr"
        },
        {
          "output_type": "execute_result",
          "data": {
            "text/plain": [
              "0.8484848484848485"
            ]
          },
          "metadata": {
            "tags": []
          },
          "execution_count": 18
        }
      ]
    },
    {
      "cell_type": "code",
      "metadata": {
        "id": "VmG4RLZyGibp",
        "colab_type": "code",
        "colab": {
          "base_uri": "https://localhost:8080/",
          "height": 170
        },
        "outputId": "e9f1c9b2-98e7-41fd-9e76-4b00b3447065"
      },
      "source": [
        "#on Column reduced\n",
        "X = reduced_df.drop(columns =['target'])\n",
        "y = reduced_df['target']\n",
        "X_train, X_test, y_train, y_test = train_test_split(X, y, test_size=0.33, random_state = 42)\n",
        "reduced_model = LogisticRegression(random_state=r_state)\n",
        "reduced_model.fit(X_train, y_train)\n",
        "reduced_model.score(X_test, y_test)"
      ],
      "execution_count": 19,
      "outputs": [
        {
          "output_type": "stream",
          "text": [
            "/usr/local/lib/python3.6/dist-packages/sklearn/linear_model/_logistic.py:940: ConvergenceWarning: lbfgs failed to converge (status=1):\n",
            "STOP: TOTAL NO. of ITERATIONS REACHED LIMIT.\n",
            "\n",
            "Increase the number of iterations (max_iter) or scale the data as shown in:\n",
            "    https://scikit-learn.org/stable/modules/preprocessing.html\n",
            "Please also refer to the documentation for alternative solver options:\n",
            "    https://scikit-learn.org/stable/modules/linear_model.html#logistic-regression\n",
            "  extra_warning_msg=_LOGISTIC_SOLVER_CONVERGENCE_MSG)\n"
          ],
          "name": "stderr"
        },
        {
          "output_type": "execute_result",
          "data": {
            "text/plain": [
              "0.8787878787878788"
            ]
          },
          "metadata": {
            "tags": []
          },
          "execution_count": 19
        }
      ]
    },
    {
      "cell_type": "markdown",
      "metadata": {
        "id": "JraMcgOdDdwY",
        "colab_type": "text"
      },
      "source": [
        "Results: \n",
        "- General: .80\n",
        "- Female: .84\n",
        "- Male: .80\n",
        "- Normalized: .81\n",
        "- One-hot: .84\n",
        "- Reduced to only Higher correlated Columns: .87"
      ]
    },
    {
      "cell_type": "code",
      "metadata": {
        "id": "mzvRU91VDtj2",
        "colab_type": "code",
        "colab": {
          "base_uri": "https://localhost:8080/",
          "height": 34
        },
        "outputId": "18ff39c8-a341-45e7-c84c-f71947180f91"
      },
      "source": [
        "#trying out male and female normalized\n",
        "X = normalized_m_df.drop(columns =['target'])\n",
        "y = normalized_m_df['target']\n",
        "X_train, X_test, y_train, y_test = train_test_split(X, y, test_size=0.33, random_state = 42)\n",
        "norm_m_model = LogisticRegression(random_state=r_state)\n",
        "norm_m_model.fit(X_train, y_train)\n",
        "norm_m_model.score(X_test, y_test)"
      ],
      "execution_count": 20,
      "outputs": [
        {
          "output_type": "execute_result",
          "data": {
            "text/plain": [
              "0.7761194029850746"
            ]
          },
          "metadata": {
            "tags": []
          },
          "execution_count": 20
        }
      ]
    },
    {
      "cell_type": "code",
      "metadata": {
        "id": "birMQ_lmECw7",
        "colab_type": "code",
        "colab": {
          "base_uri": "https://localhost:8080/",
          "height": 34
        },
        "outputId": "8096a357-88ed-4df3-8259-02af343dbcba"
      },
      "source": [
        "#trying out male and female normalized\n",
        "X = normalized_f_df.drop(columns =['target'])\n",
        "y = normalized_f_df['target']\n",
        "X_train, X_test, y_train, y_test = train_test_split(X, y, test_size=0.33, random_state = 42)\n",
        "norm_f_model = LogisticRegression(random_state=r_state)\n",
        "norm_f_model.fit(X_train, y_train)\n",
        "norm_f_model.score(X_test, y_test)"
      ],
      "execution_count": 21,
      "outputs": [
        {
          "output_type": "execute_result",
          "data": {
            "text/plain": [
              "0.90625"
            ]
          },
          "metadata": {
            "tags": []
          },
          "execution_count": 21
        }
      ]
    },
    {
      "cell_type": "markdown",
      "metadata": {
        "id": "jzS6YVq1EJem",
        "colab_type": "text"
      },
      "source": [
        "The normalized male model underperforms, but the normalized female model does better"
      ]
    },
    {
      "cell_type": "code",
      "metadata": {
        "id": "_fIVNVHBDR4x",
        "colab_type": "code",
        "colab": {
          "base_uri": "https://localhost:8080/",
          "height": 419
        },
        "outputId": "f2274148-edcc-4c64-9d22-bc77a28abd5f"
      },
      "source": [
        "#combining highest: One-hot, female, highly correlated:\n",
        "log_f_df = pd.get_dummies(female_df[reduced_columns], columns=['cp'])\n",
        "log_f_df"
      ],
      "execution_count": 22,
      "outputs": [
        {
          "output_type": "execute_result",
          "data": {
            "text/html": [
              "<div>\n",
              "<style scoped>\n",
              "    .dataframe tbody tr th:only-of-type {\n",
              "        vertical-align: middle;\n",
              "    }\n",
              "\n",
              "    .dataframe tbody tr th {\n",
              "        vertical-align: top;\n",
              "    }\n",
              "\n",
              "    .dataframe thead th {\n",
              "        text-align: right;\n",
              "    }\n",
              "</style>\n",
              "<table border=\"1\" class=\"dataframe\">\n",
              "  <thead>\n",
              "    <tr style=\"text-align: right;\">\n",
              "      <th></th>\n",
              "      <th>thalach</th>\n",
              "      <th>exang</th>\n",
              "      <th>oldpeak</th>\n",
              "      <th>slope</th>\n",
              "      <th>ca</th>\n",
              "      <th>thal</th>\n",
              "      <th>target</th>\n",
              "      <th>cp_0</th>\n",
              "      <th>cp_1</th>\n",
              "      <th>cp_2</th>\n",
              "      <th>cp_3</th>\n",
              "    </tr>\n",
              "  </thead>\n",
              "  <tbody>\n",
              "    <tr>\n",
              "      <th>2</th>\n",
              "      <td>172</td>\n",
              "      <td>0</td>\n",
              "      <td>1.4</td>\n",
              "      <td>2</td>\n",
              "      <td>0</td>\n",
              "      <td>2</td>\n",
              "      <td>1</td>\n",
              "      <td>0</td>\n",
              "      <td>1</td>\n",
              "      <td>0</td>\n",
              "      <td>0</td>\n",
              "    </tr>\n",
              "    <tr>\n",
              "      <th>4</th>\n",
              "      <td>163</td>\n",
              "      <td>1</td>\n",
              "      <td>0.6</td>\n",
              "      <td>2</td>\n",
              "      <td>0</td>\n",
              "      <td>2</td>\n",
              "      <td>1</td>\n",
              "      <td>1</td>\n",
              "      <td>0</td>\n",
              "      <td>0</td>\n",
              "      <td>0</td>\n",
              "    </tr>\n",
              "    <tr>\n",
              "      <th>6</th>\n",
              "      <td>153</td>\n",
              "      <td>0</td>\n",
              "      <td>1.3</td>\n",
              "      <td>1</td>\n",
              "      <td>0</td>\n",
              "      <td>2</td>\n",
              "      <td>1</td>\n",
              "      <td>0</td>\n",
              "      <td>1</td>\n",
              "      <td>0</td>\n",
              "      <td>0</td>\n",
              "    </tr>\n",
              "    <tr>\n",
              "      <th>11</th>\n",
              "      <td>139</td>\n",
              "      <td>0</td>\n",
              "      <td>0.2</td>\n",
              "      <td>2</td>\n",
              "      <td>0</td>\n",
              "      <td>2</td>\n",
              "      <td>1</td>\n",
              "      <td>0</td>\n",
              "      <td>0</td>\n",
              "      <td>1</td>\n",
              "      <td>0</td>\n",
              "    </tr>\n",
              "    <tr>\n",
              "      <th>14</th>\n",
              "      <td>162</td>\n",
              "      <td>0</td>\n",
              "      <td>1.0</td>\n",
              "      <td>2</td>\n",
              "      <td>0</td>\n",
              "      <td>2</td>\n",
              "      <td>1</td>\n",
              "      <td>0</td>\n",
              "      <td>0</td>\n",
              "      <td>0</td>\n",
              "      <td>1</td>\n",
              "    </tr>\n",
              "    <tr>\n",
              "      <th>...</th>\n",
              "      <td>...</td>\n",
              "      <td>...</td>\n",
              "      <td>...</td>\n",
              "      <td>...</td>\n",
              "      <td>...</td>\n",
              "      <td>...</td>\n",
              "      <td>...</td>\n",
              "      <td>...</td>\n",
              "      <td>...</td>\n",
              "      <td>...</td>\n",
              "      <td>...</td>\n",
              "    </tr>\n",
              "    <tr>\n",
              "      <th>289</th>\n",
              "      <td>130</td>\n",
              "      <td>1</td>\n",
              "      <td>2.0</td>\n",
              "      <td>1</td>\n",
              "      <td>1</td>\n",
              "      <td>3</td>\n",
              "      <td>0</td>\n",
              "      <td>1</td>\n",
              "      <td>0</td>\n",
              "      <td>0</td>\n",
              "      <td>0</td>\n",
              "    </tr>\n",
              "    <tr>\n",
              "      <th>292</th>\n",
              "      <td>146</td>\n",
              "      <td>1</td>\n",
              "      <td>2.8</td>\n",
              "      <td>1</td>\n",
              "      <td>2</td>\n",
              "      <td>1</td>\n",
              "      <td>0</td>\n",
              "      <td>1</td>\n",
              "      <td>0</td>\n",
              "      <td>0</td>\n",
              "      <td>0</td>\n",
              "    </tr>\n",
              "    <tr>\n",
              "      <th>296</th>\n",
              "      <td>136</td>\n",
              "      <td>1</td>\n",
              "      <td>0.0</td>\n",
              "      <td>1</td>\n",
              "      <td>0</td>\n",
              "      <td>2</td>\n",
              "      <td>0</td>\n",
              "      <td>1</td>\n",
              "      <td>0</td>\n",
              "      <td>0</td>\n",
              "      <td>0</td>\n",
              "    </tr>\n",
              "    <tr>\n",
              "      <th>298</th>\n",
              "      <td>123</td>\n",
              "      <td>1</td>\n",
              "      <td>0.2</td>\n",
              "      <td>1</td>\n",
              "      <td>0</td>\n",
              "      <td>3</td>\n",
              "      <td>0</td>\n",
              "      <td>1</td>\n",
              "      <td>0</td>\n",
              "      <td>0</td>\n",
              "      <td>0</td>\n",
              "    </tr>\n",
              "    <tr>\n",
              "      <th>302</th>\n",
              "      <td>174</td>\n",
              "      <td>0</td>\n",
              "      <td>0.0</td>\n",
              "      <td>1</td>\n",
              "      <td>1</td>\n",
              "      <td>2</td>\n",
              "      <td>0</td>\n",
              "      <td>0</td>\n",
              "      <td>1</td>\n",
              "      <td>0</td>\n",
              "      <td>0</td>\n",
              "    </tr>\n",
              "  </tbody>\n",
              "</table>\n",
              "<p>95 rows × 11 columns</p>\n",
              "</div>"
            ],
            "text/plain": [
              "     thalach  exang  oldpeak  slope  ca  thal  target  cp_0  cp_1  cp_2  cp_3\n",
              "2        172      0      1.4      2   0     2       1     0     1     0     0\n",
              "4        163      1      0.6      2   0     2       1     1     0     0     0\n",
              "6        153      0      1.3      1   0     2       1     0     1     0     0\n",
              "11       139      0      0.2      2   0     2       1     0     0     1     0\n",
              "14       162      0      1.0      2   0     2       1     0     0     0     1\n",
              "..       ...    ...      ...    ...  ..   ...     ...   ...   ...   ...   ...\n",
              "289      130      1      2.0      1   1     3       0     1     0     0     0\n",
              "292      146      1      2.8      1   2     1       0     1     0     0     0\n",
              "296      136      1      0.0      1   0     2       0     1     0     0     0\n",
              "298      123      1      0.2      1   0     3       0     1     0     0     0\n",
              "302      174      0      0.0      1   1     2       0     0     1     0     0\n",
              "\n",
              "[95 rows x 11 columns]"
            ]
          },
          "metadata": {
            "tags": []
          },
          "execution_count": 22
        }
      ]
    },
    {
      "cell_type": "code",
      "metadata": {
        "id": "SawEfRCzJW4l",
        "colab_type": "code",
        "colab": {
          "base_uri": "https://localhost:8080/",
          "height": 170
        },
        "outputId": "a51c0eae-958f-4b18-eec8-e2efa81266bd"
      },
      "source": [
        "X = log_f_df.drop(columns =['target'])\n",
        "y = log_f_df['target']\n",
        "X_train, X_test, y_train, y_test = train_test_split(X, y, test_size=0.33, random_state = 42)\n",
        "reduced_model = LogisticRegression(random_state=r_state)\n",
        "reduced_model.fit(X_train, y_train)\n",
        "reduced_model.score(X_test, y_test)"
      ],
      "execution_count": 23,
      "outputs": [
        {
          "output_type": "stream",
          "text": [
            "/usr/local/lib/python3.6/dist-packages/sklearn/linear_model/_logistic.py:940: ConvergenceWarning: lbfgs failed to converge (status=1):\n",
            "STOP: TOTAL NO. of ITERATIONS REACHED LIMIT.\n",
            "\n",
            "Increase the number of iterations (max_iter) or scale the data as shown in:\n",
            "    https://scikit-learn.org/stable/modules/preprocessing.html\n",
            "Please also refer to the documentation for alternative solver options:\n",
            "    https://scikit-learn.org/stable/modules/linear_model.html#logistic-regression\n",
            "  extra_warning_msg=_LOGISTIC_SOLVER_CONVERGENCE_MSG)\n"
          ],
          "name": "stderr"
        },
        {
          "output_type": "execute_result",
          "data": {
            "text/plain": [
              "0.90625"
            ]
          },
          "metadata": {
            "tags": []
          },
          "execution_count": 23
        }
      ]
    },
    {
      "cell_type": "code",
      "metadata": {
        "id": "kQLDiqOCJ6Xo",
        "colab_type": "code",
        "colab": {}
      },
      "source": [
        "#checking for sanity on the whole\n",
        "log_df =  pd.get_dummies(reduced_df, columns=['cp'])"
      ],
      "execution_count": 24,
      "outputs": []
    },
    {
      "cell_type": "code",
      "metadata": {
        "id": "7Wf-sWFyKlK7",
        "colab_type": "code",
        "colab": {
          "base_uri": "https://localhost:8080/",
          "height": 34
        },
        "outputId": "4710e1fa-f857-4fca-9633-fb96e0b546e0"
      },
      "source": [
        "X = log_df.drop(columns =['target'])\n",
        "y = log_df['target']\n",
        "X_train, X_test, y_train, y_test = train_test_split(X, y, test_size=0.33, random_state = 42)\n",
        "reduced_model = LogisticRegression(random_state=r_state)\n",
        "reduced_model.fit(X_train, y_train)\n",
        "reduced_model.score(X_test, y_test)"
      ],
      "execution_count": 25,
      "outputs": [
        {
          "output_type": "execute_result",
          "data": {
            "text/plain": [
              "0.8585858585858586"
            ]
          },
          "metadata": {
            "tags": []
          },
          "execution_count": 25
        }
      ]
    },
    {
      "cell_type": "code",
      "metadata": {
        "id": "OghwYVhAK7vh",
        "colab_type": "code",
        "colab": {
          "base_uri": "https://localhost:8080/",
          "height": 170
        },
        "outputId": "8d3bc6da-8f92-415e-cd9c-ecfc25cc1a87"
      },
      "source": [
        "#checking for sanity on the males\n",
        "log_m_df = pd.get_dummies(male_df[reduced_columns], columns=['cp'])\n",
        "X = log_m_df.drop(columns =['target'])\n",
        "y = log_m_df['target']\n",
        "X_train, X_test, y_train, y_test = train_test_split(X, y, test_size=0.33, random_state = 42)\n",
        "reduced_model = LogisticRegression(random_state=r_state)\n",
        "reduced_model.fit(X_train, y_train)\n",
        "reduced_model.score(X_test, y_test)"
      ],
      "execution_count": 26,
      "outputs": [
        {
          "output_type": "stream",
          "text": [
            "/usr/local/lib/python3.6/dist-packages/sklearn/linear_model/_logistic.py:940: ConvergenceWarning: lbfgs failed to converge (status=1):\n",
            "STOP: TOTAL NO. of ITERATIONS REACHED LIMIT.\n",
            "\n",
            "Increase the number of iterations (max_iter) or scale the data as shown in:\n",
            "    https://scikit-learn.org/stable/modules/preprocessing.html\n",
            "Please also refer to the documentation for alternative solver options:\n",
            "    https://scikit-learn.org/stable/modules/linear_model.html#logistic-regression\n",
            "  extra_warning_msg=_LOGISTIC_SOLVER_CONVERGENCE_MSG)\n"
          ],
          "name": "stderr"
        },
        {
          "output_type": "execute_result",
          "data": {
            "text/plain": [
              "0.7761194029850746"
            ]
          },
          "metadata": {
            "tags": []
          },
          "execution_count": 26
        }
      ]
    },
    {
      "cell_type": "markdown",
      "metadata": {
        "id": "w77x8_wQLL8j",
        "colab_type": "text"
      },
      "source": [
        "Results:\n",
        "\n",
        "- General: .80\n",
        "- Female: .84\n",
        "- Male: .80\n",
        "- Normalized: .81\n",
        "- One-hot: .84\n",
        "- Reduced to only Higher correlated Columns: .87\n",
        "\n",
        "\n",
        "- Combining highest: One-hot, female, highly correlated: .90\n",
        "- One-hot, highly correlated: .85\n",
        "- Male One-hot, highly correlated: .77\n",
        "\n",
        "There is a higher prediction accuracy for females than males"
      ]
    },
    {
      "cell_type": "markdown",
      "metadata": {
        "id": "hgg9f-d-MCHG",
        "colab_type": "text"
      },
      "source": [
        "## Decision Trees"
      ]
    },
    {
      "cell_type": "code",
      "metadata": {
        "colab_type": "code",
        "id": "0Br1FHcIzti-",
        "colab": {
          "base_uri": "https://localhost:8080/",
          "height": 34
        },
        "outputId": "8d323c31-a34a-4edc-c4fe-1ec4f147863d"
      },
      "source": [
        "#Load into X and Y\n",
        "X = df.drop(columns =['target'])\n",
        "y = df['target']\n",
        "#Shuffle and Split using Train Test Split\n",
        "X_train, X_test, y_train, y_test = train_test_split(X, y, test_size=0.33, random_state = 42)\n",
        "model = tree.DecisionTreeClassifier(max_depth=3, random_state=r_state)\n",
        "model.fit(X_train, y_train)\n",
        "model.score(X_test, y_test)"
      ],
      "execution_count": 27,
      "outputs": [
        {
          "output_type": "execute_result",
          "data": {
            "text/plain": [
              "0.797979797979798"
            ]
          },
          "metadata": {
            "tags": []
          },
          "execution_count": 27
        }
      ]
    },
    {
      "cell_type": "code",
      "metadata": {
        "id": "9ivETf4r0RC2",
        "colab_type": "code",
        "colab": {
          "base_uri": "https://localhost:8080/",
          "height": 34
        },
        "outputId": "966b2d1a-192b-44f7-c285-20929efeda7e"
      },
      "source": [
        "X = female_df.drop(columns =['target'])\n",
        "y = female_df['target']\n",
        "X_train, X_test, y_train, y_test = train_test_split(X, y, test_size=0.33, random_state = 42)\n",
        "f_model = tree.DecisionTreeClassifier(max_depth=3, random_state=r_state)\n",
        "f_model.fit(X_train, y_train)\n",
        "f_model.score(X_test, y_test)"
      ],
      "execution_count": 28,
      "outputs": [
        {
          "output_type": "execute_result",
          "data": {
            "text/plain": [
              "0.875"
            ]
          },
          "metadata": {
            "tags": []
          },
          "execution_count": 28
        }
      ]
    },
    {
      "cell_type": "code",
      "metadata": {
        "id": "nQ8BxNV20nGd",
        "colab_type": "code",
        "colab": {
          "base_uri": "https://localhost:8080/",
          "height": 34
        },
        "outputId": "bf8e49ac-ba82-41a3-c111-f49d3e07b9d4"
      },
      "source": [
        "X = male_df.drop(columns =['target'])\n",
        "y = male_df['target']\n",
        "X_train, X_test, y_train, y_test = train_test_split(X, y, test_size=0.33, random_state = 42)\n",
        "m_model = tree.DecisionTreeClassifier(max_depth=3, random_state=r_state)\n",
        "m_model.fit(X_train, y_train)\n",
        "m_model.score(X_test, y_test)"
      ],
      "execution_count": 29,
      "outputs": [
        {
          "output_type": "execute_result",
          "data": {
            "text/plain": [
              "0.6716417910447762"
            ]
          },
          "metadata": {
            "tags": []
          },
          "execution_count": 29
        }
      ]
    },
    {
      "cell_type": "code",
      "metadata": {
        "id": "EsM0m6qZ00A4",
        "colab_type": "code",
        "colab": {
          "base_uri": "https://localhost:8080/",
          "height": 34
        },
        "outputId": "14c704f3-d0a3-48ab-a866-f32c6789fa88"
      },
      "source": [
        "#On Normalized data\n",
        "X = normalized_df.drop(columns =['target'])\n",
        "y = normalized_df['target']\n",
        "X_train, X_test, y_train, y_test = train_test_split(X, y, test_size=0.33, random_state = 42)\n",
        "norm_model = tree.DecisionTreeClassifier(max_depth=3, random_state=r_state)\n",
        "norm_model.fit(X_train, y_train)\n",
        "norm_model.score(X_test, y_test)"
      ],
      "execution_count": 30,
      "outputs": [
        {
          "output_type": "execute_result",
          "data": {
            "text/plain": [
              "0.797979797979798"
            ]
          },
          "metadata": {
            "tags": []
          },
          "execution_count": 30
        }
      ]
    },
    {
      "cell_type": "code",
      "metadata": {
        "id": "fZh8YrTC1EHV",
        "colab_type": "code",
        "colab": {
          "base_uri": "https://localhost:8080/",
          "height": 34
        },
        "outputId": "8b2aa02a-a2fe-4965-fb80-4a32acbde85b"
      },
      "source": [
        "#on Column reduced\n",
        "X = reduced_df.drop(columns =['target'])\n",
        "y = reduced_df['target']\n",
        "X_train, X_test, y_train, y_test = train_test_split(X, y, test_size=0.33, random_state = 42)\n",
        "reduced_model = tree.DecisionTreeClassifier(max_depth=3, random_state=r_state)\n",
        "reduced_model.fit(X_train, y_train)\n",
        "reduced_model.score(X_test, y_test)"
      ],
      "execution_count": 31,
      "outputs": [
        {
          "output_type": "execute_result",
          "data": {
            "text/plain": [
              "0.797979797979798"
            ]
          },
          "metadata": {
            "tags": []
          },
          "execution_count": 31
        }
      ]
    },
    {
      "cell_type": "code",
      "metadata": {
        "id": "8ruVu0Wd1PEK",
        "colab_type": "code",
        "colab": {
          "base_uri": "https://localhost:8080/",
          "height": 34
        },
        "outputId": "8aa39e8b-77f7-4122-a6ff-4c0024c8530b"
      },
      "source": [
        "#On One-Hot encoded data\n",
        "X = onehot_df.drop(columns =['target'])\n",
        "y = onehot_df['target']\n",
        "X_train, X_test, y_train, y_test = train_test_split(X, y, test_size=0.33, random_state = 42)\n",
        "norm_model = tree.DecisionTreeClassifier(max_depth=3, random_state=r_state)\n",
        "norm_model.fit(X_train, y_train)\n",
        "norm_model.score(X_test, y_test)"
      ],
      "execution_count": 32,
      "outputs": [
        {
          "output_type": "execute_result",
          "data": {
            "text/plain": [
              "0.797979797979798"
            ]
          },
          "metadata": {
            "tags": []
          },
          "execution_count": 32
        }
      ]
    },
    {
      "cell_type": "markdown",
      "metadata": {
        "id": "FMPKat-f1YPQ",
        "colab_type": "text"
      },
      "source": [
        "Results:\n",
        "\n",
        "- General: .79\n",
        "- Female: .87\n",
        "- Male: .67\n",
        "- Normalized: .79\n",
        "- One-hot: .79\n",
        "- Reduced to only Higher correlated Columns: .79\n",
        "\n",
        "The Decision tree model is easier to use by humans. The Scores for the General, Normalized, One-Hot, and reduced columns are exactly the same scores to each other showing no need to transform the data, but the reduced columns could let us know only what data to collect. The rate of female is .87 which is higher than the original linear regression, but we are unlikely to get that number higher with any transformation.\n",
        "\n",
        "We can use a decision tree visualization to help humans classify without the model being present."
      ]
    },
    {
      "cell_type": "markdown",
      "metadata": {
        "id": "0agaF7Et5fOx",
        "colab_type": "text"
      },
      "source": [
        "### Decison Tree Visualizations"
      ]
    },
    {
      "cell_type": "code",
      "metadata": {
        "id": "Zi9xXbfw2hi1",
        "colab_type": "code",
        "colab": {
          "base_uri": "https://localhost:8080/",
          "height": 416
        },
        "outputId": "ce0ea7d4-f38b-4ff6-9f00-896e4d386492"
      },
      "source": [
        "fig, axes = plt.subplots(nrows = 1,ncols = 1,figsize = (4,1.5), dpi=300)\n",
        "tree.plot_tree(model, feature_names=df.columns.values.tolist())\n",
        "plt.show()"
      ],
      "execution_count": 33,
      "outputs": [
        {
          "output_type": "display_data",
          "data": {
            "image/png": "[encoded data removed]",
            "text/plain": [
              "<Figure size 1200x450 with 1 Axes>"
            ]
          },
          "metadata": {
            "tags": [],
            "needs_background": "light"
          }
        }
      ]
    },
    {
      "cell_type": "code",
      "metadata": {
        "colab_type": "code",
        "id": "FifUDkW33WSj",
        "colab": {
          "base_uri": "https://localhost:8080/",
          "height": 416
        },
        "outputId": "692e1f5c-0a9d-455f-dfe0-ec9c2e084412"
      },
      "source": [
        "#On just the female model\n",
        "fig, axes = plt.subplots(nrows = 1,ncols = 1,figsize = (4,1.5), dpi=300)\n",
        "tree.plot_tree(f_model, feature_names=female_df.columns.values.tolist())\n",
        "plt.show()"
      ],
      "execution_count": 34,
      "outputs": [
        {
          "output_type": "display_data",
          "data": {
            "image/png": "[encoded data removed]",
            "text/plain": [
              "<Figure size 1200x450 with 1 Axes>"
            ]
          },
          "metadata": {
            "tags": [],
            "needs_background": "light"
          }
        }
      ]
    },
    {
      "cell_type": "markdown",
      "metadata": {
        "id": "VjHieOPVMIJD",
        "colab_type": "text"
      },
      "source": [
        "## Random Forest"
      ]
    },
    {
      "cell_type": "code",
      "metadata": {
        "id": "r5nYlnJG5uAA",
        "colab_type": "code",
        "colab": {
          "base_uri": "https://localhost:8080/",
          "height": 34
        },
        "outputId": "796dfc97-ea0f-46e0-9f25-d513a70c0d3e"
      },
      "source": [
        "#Load into X and Y\n",
        "X = df.drop(columns =['target'])\n",
        "y = df['target']\n",
        "#Shuffle and Split using Train Test Split\n",
        "X_train, X_test, y_train, y_test = train_test_split(X, y, test_size=0.33, random_state = 42)\n",
        "model = RandomForestClassifier(random_state=r_state)\n",
        "model.fit(X_train, y_train)\n",
        "model.score(X_test, y_test)"
      ],
      "execution_count": 35,
      "outputs": [
        {
          "output_type": "execute_result",
          "data": {
            "text/plain": [
              "0.8181818181818182"
            ]
          },
          "metadata": {
            "tags": []
          },
          "execution_count": 35
        }
      ]
    },
    {
      "cell_type": "code",
      "metadata": {
        "id": "zHisQ41l6nIk",
        "colab_type": "code",
        "colab": {
          "base_uri": "https://localhost:8080/",
          "height": 34
        },
        "outputId": "bd01c7be-62f2-41a0-9b29-8baa5ab8849d"
      },
      "source": [
        "X = female_df.drop(columns =['target'])\n",
        "y = female_df['target']\n",
        "X_train, X_test, y_train, y_test = train_test_split(X, y, test_size=0.33, random_state = 42)\n",
        "f_model = RandomForestClassifier(random_state=r_state)\n",
        "f_model.fit(X_train, y_train)\n",
        "f_model.score(X_test, y_test)"
      ],
      "execution_count": 36,
      "outputs": [
        {
          "output_type": "execute_result",
          "data": {
            "text/plain": [
              "0.875"
            ]
          },
          "metadata": {
            "tags": []
          },
          "execution_count": 36
        }
      ]
    },
    {
      "cell_type": "code",
      "metadata": {
        "id": "6ccv5ZNq6uhw",
        "colab_type": "code",
        "colab": {
          "base_uri": "https://localhost:8080/",
          "height": 34
        },
        "outputId": "65b40018-e895-4407-8a5c-d67f9aa733e9"
      },
      "source": [
        "X = male_df.drop(columns =['target'])\n",
        "y = male_df['target']\n",
        "X_train, X_test, y_train, y_test = train_test_split(X, y, test_size=0.33, random_state = 42)\n",
        "m_model = RandomForestClassifier(random_state=r_state)\n",
        "m_model.fit(X_train, y_train)\n",
        "m_model.score(X_test, y_test)"
      ],
      "execution_count": 37,
      "outputs": [
        {
          "output_type": "execute_result",
          "data": {
            "text/plain": [
              "0.746268656716418"
            ]
          },
          "metadata": {
            "tags": []
          },
          "execution_count": 37
        }
      ]
    },
    {
      "cell_type": "code",
      "metadata": {
        "id": "kzhBdCIJ6uZB",
        "colab_type": "code",
        "colab": {
          "base_uri": "https://localhost:8080/",
          "height": 34
        },
        "outputId": "7d0a4446-473f-452c-ca48-04b494f2eed8"
      },
      "source": [
        "#On Normalized data\n",
        "X = normalized_df.drop(columns =['target'])\n",
        "y = normalized_df['target']\n",
        "X_train, X_test, y_train, y_test = train_test_split(X, y, test_size=0.33, random_state = 42)\n",
        "norm_model = RandomForestClassifier(random_state=r_state)\n",
        "norm_model.fit(X_train, y_train)\n",
        "norm_model.score(X_test, y_test)"
      ],
      "execution_count": 38,
      "outputs": [
        {
          "output_type": "execute_result",
          "data": {
            "text/plain": [
              "0.8181818181818182"
            ]
          },
          "metadata": {
            "tags": []
          },
          "execution_count": 38
        }
      ]
    },
    {
      "cell_type": "code",
      "metadata": {
        "id": "hz-WnqX-6uOa",
        "colab_type": "code",
        "colab": {
          "base_uri": "https://localhost:8080/",
          "height": 34
        },
        "outputId": "445096ff-59f0-4f1b-db0b-0d4df2830594"
      },
      "source": [
        "#On One-Hot encoded data\n",
        "X = onehot_df.drop(columns =['target'])\n",
        "y = onehot_df['target']\n",
        "X_train, X_test, y_train, y_test = train_test_split(X, y, test_size=0.33, random_state = 42)\n",
        "norm_model = RandomForestClassifier(random_state=r_state)\n",
        "norm_model.fit(X_train, y_train)\n",
        "norm_model.score(X_test, y_test)"
      ],
      "execution_count": 39,
      "outputs": [
        {
          "output_type": "execute_result",
          "data": {
            "text/plain": [
              "0.8181818181818182"
            ]
          },
          "metadata": {
            "tags": []
          },
          "execution_count": 39
        }
      ]
    },
    {
      "cell_type": "code",
      "metadata": {
        "id": "mXqAeZtQ7F56",
        "colab_type": "code",
        "colab": {
          "base_uri": "https://localhost:8080/",
          "height": 34
        },
        "outputId": "d3f5ae6a-6e11-430e-afc8-5ad5019aa35c"
      },
      "source": [
        "#on Column reduced\n",
        "X = reduced_df.drop(columns =['target'])\n",
        "y = reduced_df['target']\n",
        "X_train, X_test, y_train, y_test = train_test_split(X, y, test_size=0.33, random_state = 42)\n",
        "reduced_model = RandomForestClassifier(random_state=r_state)\n",
        "reduced_model.fit(X_train, y_train)\n",
        "reduced_model.score(X_test, y_test)"
      ],
      "execution_count": 40,
      "outputs": [
        {
          "output_type": "execute_result",
          "data": {
            "text/plain": [
              "0.8585858585858586"
            ]
          },
          "metadata": {
            "tags": []
          },
          "execution_count": 40
        }
      ]
    },
    {
      "cell_type": "markdown",
      "metadata": {
        "id": "IsVcYGGD7Qju",
        "colab_type": "text"
      },
      "source": [
        "Results:\n",
        "\n",
        "- General: .81\n",
        "- Female: .87\n",
        "- Male: .74\n",
        "- Normalized: .81\n",
        "- One-hot: .81\n",
        "- Reduced to only Higher correlated Columns: .85\n",
        "\n",
        "On Random Forest, it looks like higher correlated data outperforms the whole data. Many of the numbers are about as good as the decison trees."
      ]
    },
    {
      "cell_type": "code",
      "metadata": {
        "id": "dP5BEAxa8Tea",
        "colab_type": "code",
        "colab": {
          "base_uri": "https://localhost:8080/",
          "height": 34
        },
        "outputId": "158deb71-d357-482c-b1d4-46a4634f4264"
      },
      "source": [
        "#combining highest: One-hot, female, highly correlated:\n",
        "comb_f_df = pd.get_dummies(female_df[reduced_columns], columns=['cp'])\n",
        "X = comb_f_df.drop(columns =['target'])\n",
        "y = comb_f_df['target']\n",
        "X_train, X_test, y_train, y_test = train_test_split(X, y, test_size=0.33, random_state = 42)\n",
        "reduced_model = RandomForestClassifier(random_state=r_state)\n",
        "reduced_model.fit(X_train, y_train)\n",
        "reduced_model.score(X_test, y_test)"
      ],
      "execution_count": 41,
      "outputs": [
        {
          "output_type": "execute_result",
          "data": {
            "text/plain": [
              "0.90625"
            ]
          },
          "metadata": {
            "tags": []
          },
          "execution_count": 41
        }
      ]
    },
    {
      "cell_type": "markdown",
      "metadata": {
        "id": "YATrsnqW8tHQ",
        "colab_type": "text"
      },
      "source": [
        "Random Forest seems to perform as well as Logistic Regression on the one-hot, female, and highly correlated data"
      ]
    },
    {
      "cell_type": "markdown",
      "metadata": {
        "id": "MmHrs9NRMKtk",
        "colab_type": "text"
      },
      "source": [
        "## AdaBoost"
      ]
    },
    {
      "cell_type": "code",
      "metadata": {
        "id": "ldFLs14A57kS",
        "colab_type": "code",
        "colab": {
          "base_uri": "https://localhost:8080/",
          "height": 34
        },
        "outputId": "3e722b8b-2e93-4cca-b57d-5de83d54cfcd"
      },
      "source": [
        "#Load into X and Y\n",
        "X = df.drop(columns =['target'])\n",
        "y = df['target']\n",
        "#Shuffle and Split using Train Test Split\n",
        "X_train, X_test, y_train, y_test = train_test_split(X, y, test_size=0.33, random_state = 42)\n",
        "model = AdaBoostClassifier(n_estimators=25, random_state=r_state)\n",
        "model.fit(X_train, y_train)\n",
        "model.score(X_test, y_test)"
      ],
      "execution_count": 42,
      "outputs": [
        {
          "output_type": "execute_result",
          "data": {
            "text/plain": [
              "0.797979797979798"
            ]
          },
          "metadata": {
            "tags": []
          },
          "execution_count": 42
        }
      ]
    },
    {
      "cell_type": "code",
      "metadata": {
        "id": "C73BAvuK-v3F",
        "colab_type": "code",
        "colab": {
          "base_uri": "https://localhost:8080/",
          "height": 34
        },
        "outputId": "c3848e71-fb40-45ce-b8b9-413edc048996"
      },
      "source": [
        "X = female_df.drop(columns =['target'])\n",
        "y = female_df['target']\n",
        "X_train, X_test, y_train, y_test = train_test_split(X, y, test_size=0.33, random_state = 42)\n",
        "f_model = AdaBoostClassifier(n_estimators=25, random_state=r_state)\n",
        "f_model.fit(X_train, y_train)\n",
        "f_model.score(X_test, y_test)"
      ],
      "execution_count": 43,
      "outputs": [
        {
          "output_type": "execute_result",
          "data": {
            "text/plain": [
              "0.875"
            ]
          },
          "metadata": {
            "tags": []
          },
          "execution_count": 43
        }
      ]
    },
    {
      "cell_type": "code",
      "metadata": {
        "id": "b0r5jnFd-3Y-",
        "colab_type": "code",
        "colab": {
          "base_uri": "https://localhost:8080/",
          "height": 34
        },
        "outputId": "0d44ab94-8f34-4b95-db74-238d3ccd5545"
      },
      "source": [
        "X = male_df.drop(columns =['target'])\n",
        "y = male_df['target']\n",
        "X_train, X_test, y_train, y_test = train_test_split(X, y, test_size=0.33, random_state = 42)\n",
        "m_model = AdaBoostClassifier(n_estimators=25, random_state=r_state)\n",
        "m_model.fit(X_train, y_train)\n",
        "m_model.score(X_test, y_test)"
      ],
      "execution_count": 44,
      "outputs": [
        {
          "output_type": "execute_result",
          "data": {
            "text/plain": [
              "0.8208955223880597"
            ]
          },
          "metadata": {
            "tags": []
          },
          "execution_count": 44
        }
      ]
    },
    {
      "cell_type": "code",
      "metadata": {
        "id": "gAG7WaoQ-6g4",
        "colab_type": "code",
        "colab": {
          "base_uri": "https://localhost:8080/",
          "height": 34
        },
        "outputId": "6cd15738-7a84-4423-e8a3-73e51d5f2b42"
      },
      "source": [
        "#On Normalized data\n",
        "X = normalized_df.drop(columns =['target'])\n",
        "y = normalized_df['target']\n",
        "X_train, X_test, y_train, y_test = train_test_split(X, y, test_size=0.33, random_state = 42)\n",
        "norm_model = AdaBoostClassifier(n_estimators=25, random_state=r_state)\n",
        "norm_model.fit(X_train, y_train)\n",
        "norm_model.score(X_test, y_test)"
      ],
      "execution_count": 45,
      "outputs": [
        {
          "output_type": "execute_result",
          "data": {
            "text/plain": [
              "0.797979797979798"
            ]
          },
          "metadata": {
            "tags": []
          },
          "execution_count": 45
        }
      ]
    },
    {
      "cell_type": "code",
      "metadata": {
        "id": "eMArc-oZ_FLN",
        "colab_type": "code",
        "colab": {
          "base_uri": "https://localhost:8080/",
          "height": 34
        },
        "outputId": "e9461919-2e28-468c-b9f4-fd11d32d0472"
      },
      "source": [
        "#On One-Hot encoded data\n",
        "X = onehot_df.drop(columns =['target'])\n",
        "y = onehot_df['target']\n",
        "X_train, X_test, y_train, y_test = train_test_split(X, y, test_size=0.33, random_state = 42)\n",
        "norm_model = AdaBoostClassifier(n_estimators=25, random_state=r_state)\n",
        "norm_model.fit(X_train, y_train)\n",
        "norm_model.score(X_test, y_test)"
      ],
      "execution_count": 46,
      "outputs": [
        {
          "output_type": "execute_result",
          "data": {
            "text/plain": [
              "0.797979797979798"
            ]
          },
          "metadata": {
            "tags": []
          },
          "execution_count": 46
        }
      ]
    },
    {
      "cell_type": "code",
      "metadata": {
        "id": "PqQpwXnh_Ii-",
        "colab_type": "code",
        "colab": {
          "base_uri": "https://localhost:8080/",
          "height": 34
        },
        "outputId": "01b1329b-8c69-4bbf-98ce-728fd3ace26c"
      },
      "source": [
        "#on Column reduced\n",
        "X = reduced_df.drop(columns =['target'])\n",
        "y = reduced_df['target']\n",
        "X_train, X_test, y_train, y_test = train_test_split(X, y, test_size=0.33, random_state = 42)\n",
        "reduced_model = AdaBoostClassifier(n_estimators=25, random_state=r_state)\n",
        "reduced_model.fit(X_train, y_train)\n",
        "reduced_model.score(X_test, y_test)"
      ],
      "execution_count": 47,
      "outputs": [
        {
          "output_type": "execute_result",
          "data": {
            "text/plain": [
              "0.7575757575757576"
            ]
          },
          "metadata": {
            "tags": []
          },
          "execution_count": 47
        }
      ]
    },
    {
      "cell_type": "markdown",
      "metadata": {
        "id": "Yu9kAheG_ih2",
        "colab_type": "text"
      },
      "source": [
        "Results:\n",
        "\n",
        "- General: .79\n",
        "- Female: .87\n",
        "- Male: .82\n",
        "- Normalized: .79\n",
        "- One-hot: .79\n",
        "- Reduced to only Higher correlated Columns: .75\n",
        "\n",
        "AdaBoost has the highest prediction for the Male dataset so far. The General is about as good as the other models. It appears that normalizing the data and applying one-hot has little to no effect on the output. The reducing to less columns actually gives a lower number. Separating the data into male and female gives better prediction than leaving them together."
      ]
    },
    {
      "cell_type": "markdown",
      "metadata": {
        "id": "7pDzEh0NMQXt",
        "colab_type": "text"
      },
      "source": [
        "## KNN"
      ]
    },
    {
      "cell_type": "code",
      "metadata": {
        "id": "l8ELWvugLFAB",
        "colab_type": "code",
        "colab": {
          "base_uri": "https://localhost:8080/",
          "height": 34
        },
        "outputId": "00fafd81-d897-44c1-8e26-7018164699a7"
      },
      "source": [
        "#Load into X and Y\n",
        "X = df.drop(columns =['target'])\n",
        "y = df['target']\n",
        "#Shuffle and Split using Train Test Split\n",
        "X_train, X_test, y_train, y_test = train_test_split(X, y, test_size=0.33, random_state = 42)\n",
        "model = KNeighborsClassifier(n_neighbors=11)\n",
        "model.fit(X_train, y_train)\n",
        "model.score(X_test, y_test)"
      ],
      "execution_count": 48,
      "outputs": [
        {
          "output_type": "execute_result",
          "data": {
            "text/plain": [
              "0.6767676767676768"
            ]
          },
          "metadata": {
            "tags": []
          },
          "execution_count": 48
        }
      ]
    },
    {
      "cell_type": "code",
      "metadata": {
        "id": "4eZx9H7i6SP1",
        "colab_type": "code",
        "colab": {
          "base_uri": "https://localhost:8080/",
          "height": 34
        },
        "outputId": "9d414941-c22b-4e15-c68b-9ea6f5ec8b6d"
      },
      "source": [
        "X = female_df.drop(columns =['target'])\n",
        "y = female_df['target']\n",
        "X_train, X_test, y_train, y_test = train_test_split(X, y, test_size=0.33, random_state = 42)\n",
        "f_model = KNeighborsClassifier(n_neighbors=11)\n",
        "f_model.fit(X_train, y_train)\n",
        "f_model.score(X_test, y_test)"
      ],
      "execution_count": 49,
      "outputs": [
        {
          "output_type": "execute_result",
          "data": {
            "text/plain": [
              "0.8125"
            ]
          },
          "metadata": {
            "tags": []
          },
          "execution_count": 49
        }
      ]
    },
    {
      "cell_type": "code",
      "metadata": {
        "id": "xspTKr5MAmZC",
        "colab_type": "code",
        "colab": {
          "base_uri": "https://localhost:8080/",
          "height": 34
        },
        "outputId": "1f4381f3-c6d1-488e-f575-dce2e41b0440"
      },
      "source": [
        "X = male_df.drop(columns =['target'])\n",
        "y = male_df['target']\n",
        "X_train, X_test, y_train, y_test = train_test_split(X, y, test_size=0.33, random_state = 42)\n",
        "m_model = KNeighborsClassifier(n_neighbors=11)\n",
        "m_model.fit(X_train, y_train)\n",
        "m_model.score(X_test, y_test)"
      ],
      "execution_count": 50,
      "outputs": [
        {
          "output_type": "execute_result",
          "data": {
            "text/plain": [
              "0.6865671641791045"
            ]
          },
          "metadata": {
            "tags": []
          },
          "execution_count": 50
        }
      ]
    },
    {
      "cell_type": "code",
      "metadata": {
        "id": "Pl3h0fUfAvds",
        "colab_type": "code",
        "colab": {
          "base_uri": "https://localhost:8080/",
          "height": 34
        },
        "outputId": "946b8c59-335c-464c-8482-226aaedde163"
      },
      "source": [
        "#On Normalized data\n",
        "X = normalized_df.drop(columns =['target'])\n",
        "y = normalized_df['target']\n",
        "X_train, X_test, y_train, y_test = train_test_split(X, y, test_size=0.33, random_state = 42)\n",
        "norm_model = KNeighborsClassifier(n_neighbors=11)\n",
        "norm_model.fit(X_train, y_train)\n",
        "norm_model.score(X_test, y_test)"
      ],
      "execution_count": 51,
      "outputs": [
        {
          "output_type": "execute_result",
          "data": {
            "text/plain": [
              "0.8383838383838383"
            ]
          },
          "metadata": {
            "tags": []
          },
          "execution_count": 51
        }
      ]
    },
    {
      "cell_type": "code",
      "metadata": {
        "id": "aWRZ1LTFAzoN",
        "colab_type": "code",
        "colab": {
          "base_uri": "https://localhost:8080/",
          "height": 34
        },
        "outputId": "e15dcf76-9c34-4501-aada-703439168127"
      },
      "source": [
        "#On One-Hot encoded data\n",
        "X = onehot_df.drop(columns =['target'])\n",
        "y = onehot_df['target']\n",
        "X_train, X_test, y_train, y_test = train_test_split(X, y, test_size=0.33, random_state = 42)\n",
        "norm_model = KNeighborsClassifier(n_neighbors=11)\n",
        "norm_model.fit(X_train, y_train)\n",
        "norm_model.score(X_test, y_test)"
      ],
      "execution_count": 52,
      "outputs": [
        {
          "output_type": "execute_result",
          "data": {
            "text/plain": [
              "0.6767676767676768"
            ]
          },
          "metadata": {
            "tags": []
          },
          "execution_count": 52
        }
      ]
    },
    {
      "cell_type": "code",
      "metadata": {
        "id": "-E2YHy60A7BS",
        "colab_type": "code",
        "colab": {
          "base_uri": "https://localhost:8080/",
          "height": 34
        },
        "outputId": "6eab2de3-68a1-4efd-c0f5-7c1ffb05ba36"
      },
      "source": [
        "#on Column reduced\n",
        "X = reduced_df.drop(columns =['target'])\n",
        "y = reduced_df['target']\n",
        "X_train, X_test, y_train, y_test = train_test_split(X, y, test_size=0.33, random_state = 42)\n",
        "reduced_model = KNeighborsClassifier(n_neighbors=11)\n",
        "reduced_model.fit(X_train, y_train)\n",
        "reduced_model.score(X_test, y_test)"
      ],
      "execution_count": 53,
      "outputs": [
        {
          "output_type": "execute_result",
          "data": {
            "text/plain": [
              "0.6868686868686869"
            ]
          },
          "metadata": {
            "tags": []
          },
          "execution_count": 53
        }
      ]
    },
    {
      "cell_type": "markdown",
      "metadata": {
        "id": "ztWQWCZ6BGhV",
        "colab_type": "text"
      },
      "source": [
        "Results:\n",
        "\n",
        "- General: .67\n",
        "- Female: .81\n",
        "- Male: .68\n",
        "- Normalized: .83\n",
        "- One-hot: .67\n",
        "- Reduced to only Higher correlated Columns: .68\n",
        "\n",
        "KNN model seems to overall underperform the other models. \n",
        "KNN vastly improved when normalized and slightly improves on the highly correlated columns."
      ]
    },
    {
      "cell_type": "code",
      "metadata": {
        "id": "A7MRv3JVBC63",
        "colab_type": "code",
        "colab": {
          "base_uri": "https://localhost:8080/",
          "height": 34
        },
        "outputId": "d7bff9bf-b2b4-4943-9d07-2f28ace63da8"
      },
      "source": [
        "#combining highest: normalized, separated by gender\n",
        "X = normalized_f_df.drop(columns =['target'])\n",
        "y = normalized_f_df['target']\n",
        "X_train, X_test, y_train, y_test = train_test_split(X, y, test_size=0.33, random_state = 42)\n",
        "knn_f_model = KNeighborsClassifier(n_neighbors=11)\n",
        "knn_f_model.fit(X_train, y_train)\n",
        "knn_f_model.score(X_test, y_test)"
      ],
      "execution_count": 54,
      "outputs": [
        {
          "output_type": "execute_result",
          "data": {
            "text/plain": [
              "0.78125"
            ]
          },
          "metadata": {
            "tags": []
          },
          "execution_count": 54
        }
      ]
    },
    {
      "cell_type": "code",
      "metadata": {
        "id": "r3DCoce6CirN",
        "colab_type": "code",
        "colab": {
          "base_uri": "https://localhost:8080/",
          "height": 34
        },
        "outputId": "ea58fc0c-4dd7-4f02-d548-83bd72bad06a"
      },
      "source": [
        "X = normalized_m_df.drop(columns =['target'])\n",
        "y = normalized_m_df['target']\n",
        "X_train, X_test, y_train, y_test = train_test_split(X, y, test_size=0.33, random_state = 42)\n",
        "knn_m_model = KNeighborsClassifier(n_neighbors=11)\n",
        "knn_m_model.fit(X_train, y_train)\n",
        "knn_m_model.score(X_test, y_test)"
      ],
      "execution_count": 55,
      "outputs": [
        {
          "output_type": "execute_result",
          "data": {
            "text/plain": [
              "0.8059701492537313"
            ]
          },
          "metadata": {
            "tags": []
          },
          "execution_count": 55
        }
      ]
    },
    {
      "cell_type": "markdown",
      "metadata": {
        "id": "fe75fQeqDSNd",
        "colab_type": "text"
      },
      "source": [
        "Interestingly, Male performs higher as normalized, but Female performs lower"
      ]
    },
    {
      "cell_type": "markdown",
      "metadata": {
        "id": "GwexCh60EfCq",
        "colab_type": "text"
      },
      "source": [
        "# Overall results"
      ]
    },
    {
      "cell_type": "code",
      "metadata": {
        "id": "U0py-nbgEg7u",
        "colab_type": "code",
        "colab": {
          "base_uri": "https://localhost:8080/",
          "height": 235
        },
        "outputId": "cf15c0ff-16fa-464d-a0bd-ad0fd0aa003e"
      },
      "source": [
        "d = {'Type of Model': ['Logistic Regression', 'Decision Tree','Random Forest', 'AdaBoost', 'KNN'], \n",
        "'General Results': [.80,.79,.81,.79,.67], \n",
        "'Female' : [.84,.87,.87,.87,.81], \n",
        "'Male' : [.80,.67,.74,.82,.68],\n",
        "'Normalized' :[.81,.79,.81,.79,.83],\n",
        "'One-Hot' : [.84,.79,.81,.79,.67],\n",
        "'Column Reduced':[.87,.79,.85,.75,.68],\n",
        "'Female Normalized':[.90,'na','na','na',.78],\n",
        "'Male Normalized':[.77,'na','na','na',.80],\n",
        "'Female One Hot Reduced':[.90,'na',.90,'na','na'],\n",
        "'One Hot Reduced':[.85,'na','na','na','na'],\n",
        "'Male One Hot Reduced':[.77,'na','na','na','na'],\n",
        "}\n",
        "results_df = pd.DataFrame(data=d)\n",
        "results_df = results_df.set_index('Type of Model')\n",
        "results_df"
      ],
      "execution_count": 56,
      "outputs": [
        {
          "output_type": "execute_result",
          "data": {
            "text/html": [
              "<div>\n",
              "<style scoped>\n",
              "    .dataframe tbody tr th:only-of-type {\n",
              "        vertical-align: middle;\n",
              "    }\n",
              "\n",
              "    .dataframe tbody tr th {\n",
              "        vertical-align: top;\n",
              "    }\n",
              "\n",
              "    .dataframe thead th {\n",
              "        text-align: right;\n",
              "    }\n",
              "</style>\n",
              "<table border=\"1\" class=\"dataframe\">\n",
              "  <thead>\n",
              "    <tr style=\"text-align: right;\">\n",
              "      <th></th>\n",
              "      <th>General Results</th>\n",
              "      <th>Female</th>\n",
              "      <th>Male</th>\n",
              "      <th>Normalized</th>\n",
              "      <th>One-Hot</th>\n",
              "      <th>Column Reduced</th>\n",
              "      <th>Female Normalized</th>\n",
              "      <th>Male Normalized</th>\n",
              "      <th>Female One Hot Reduced</th>\n",
              "      <th>One Hot Reduced</th>\n",
              "      <th>Male One Hot Reduced</th>\n",
              "    </tr>\n",
              "    <tr>\n",
              "      <th>Type of Model</th>\n",
              "      <th></th>\n",
              "      <th></th>\n",
              "      <th></th>\n",
              "      <th></th>\n",
              "      <th></th>\n",
              "      <th></th>\n",
              "      <th></th>\n",
              "      <th></th>\n",
              "      <th></th>\n",
              "      <th></th>\n",
              "      <th></th>\n",
              "    </tr>\n",
              "  </thead>\n",
              "  <tbody>\n",
              "    <tr>\n",
              "      <th>Logistic Regression</th>\n",
              "      <td>0.80</td>\n",
              "      <td>0.84</td>\n",
              "      <td>0.80</td>\n",
              "      <td>0.81</td>\n",
              "      <td>0.84</td>\n",
              "      <td>0.87</td>\n",
              "      <td>0.9</td>\n",
              "      <td>0.77</td>\n",
              "      <td>0.9</td>\n",
              "      <td>0.85</td>\n",
              "      <td>0.77</td>\n",
              "    </tr>\n",
              "    <tr>\n",
              "      <th>Decision Tree</th>\n",
              "      <td>0.79</td>\n",
              "      <td>0.87</td>\n",
              "      <td>0.67</td>\n",
              "      <td>0.79</td>\n",
              "      <td>0.79</td>\n",
              "      <td>0.79</td>\n",
              "      <td>na</td>\n",
              "      <td>na</td>\n",
              "      <td>na</td>\n",
              "      <td>na</td>\n",
              "      <td>na</td>\n",
              "    </tr>\n",
              "    <tr>\n",
              "      <th>Random Forest</th>\n",
              "      <td>0.81</td>\n",
              "      <td>0.87</td>\n",
              "      <td>0.74</td>\n",
              "      <td>0.81</td>\n",
              "      <td>0.81</td>\n",
              "      <td>0.85</td>\n",
              "      <td>na</td>\n",
              "      <td>na</td>\n",
              "      <td>0.9</td>\n",
              "      <td>na</td>\n",
              "      <td>na</td>\n",
              "    </tr>\n",
              "    <tr>\n",
              "      <th>AdaBoost</th>\n",
              "      <td>0.79</td>\n",
              "      <td>0.87</td>\n",
              "      <td>0.82</td>\n",
              "      <td>0.79</td>\n",
              "      <td>0.79</td>\n",
              "      <td>0.75</td>\n",
              "      <td>na</td>\n",
              "      <td>na</td>\n",
              "      <td>na</td>\n",
              "      <td>na</td>\n",
              "      <td>na</td>\n",
              "    </tr>\n",
              "    <tr>\n",
              "      <th>KNN</th>\n",
              "      <td>0.67</td>\n",
              "      <td>0.81</td>\n",
              "      <td>0.68</td>\n",
              "      <td>0.83</td>\n",
              "      <td>0.67</td>\n",
              "      <td>0.68</td>\n",
              "      <td>0.78</td>\n",
              "      <td>0.8</td>\n",
              "      <td>na</td>\n",
              "      <td>na</td>\n",
              "      <td>na</td>\n",
              "    </tr>\n",
              "  </tbody>\n",
              "</table>\n",
              "</div>"
            ],
            "text/plain": [
              "                     General Results  ...  Male One Hot Reduced\n",
              "Type of Model                         ...                      \n",
              "Logistic Regression             0.80  ...                  0.77\n",
              "Decision Tree                   0.79  ...                    na\n",
              "Random Forest                   0.81  ...                    na\n",
              "AdaBoost                        0.79  ...                    na\n",
              "KNN                             0.67  ...                    na\n",
              "\n",
              "[5 rows x 11 columns]"
            ]
          },
          "metadata": {
            "tags": []
          },
          "execution_count": 56
        }
      ]
    },
    {
      "cell_type": "markdown",
      "metadata": {
        "id": "oo4dTzb4QKAz",
        "colab_type": "text"
      },
      "source": [
        "- General Results: Highest is Random Forest, lowest is KNN. However, transforming the data can provide higher scores. The highest score for General is Logistic Regression with columns reduced.\n",
        "- Female: Decision tree, Random Forest, and AdaBoost tie for highest. Can get higher when normalizing data on regression or using reduced columns & One-hot encoding on Regression or Random Forest\n",
        "- Male: Highest is with AdaBoost followed by Logistic Regression with Decision tree as lowest. However, we may be able to find a Decision Tree with a higher accuracy.\n",
        "\n",
        "Depending on the needs of this data I would either go with Logistic Regression with the Columns reduced or with figuring out the best Decision tree models for males and females.\n",
        "\n",
        "The Decision tree models would help real people without access to the model to run it.\n",
        "The column reduced logistic regression would provide the highest accuracy with the overall dataset.\n",
        "\n",
        "I would be intersted in seeing if the overall highest accuracy could be consistently obtained with separating the female and male. Feeding the female into a normalized Logistic Regression Model and the male into an AdaBoost model.\n"
      ]
    }
  ]
}